{
 "cells": [
  {
   "cell_type": "markdown",
   "source": [
    "# Extract data from Mongo DB with pymongo"
   ],
   "metadata": {
    "collapsed": false
   }
  },
  {
   "cell_type": "markdown",
   "source": [
    "### Nodes\n",
    "\n",
    "set_mongo_connection(), sets up a connection to a MongoDB database using a connection string, database name, and collection name. It returns the client, db, and col objects which can be used to perform further operations on the database.\n",
    "\n",
    "get_node_users() retrieves information about Twitter users from a MongoDB database, either from tweets that include user mentions or from tweets that include certain keywords or hashtags. It creates a dictionary representing each user found, including the user's ID, username, number of followers (if available), and the date the tweet was created. It then combines the dictionaries into a single list, removes any duplicate users based on their ID, and returns the resulting list sorted by the date the tweet was created.\n",
    "\n",
    "\n",
    "get_node_tweets(), retrieves information about Twitter tweets from the specified collection. It searches for documents that contain a key called \"includes.tweets\" and extracts information such as tweet ID, author ID, creation time, and number of retweets. It also checks for any referenced tweets and adds them to a list if present. The function returns a list of tweet objects.\n",
    "\n",
    "get_node_hashtags(), retrieves a list of unique hashtags from the first tweet in each document in the specified collection. It uses the collection.find() method to search for documents that contain a key called \"includes.tweets.0.entities.hashtags\", which indicates that the first tweet in the document has at least one hashtag. It then loops through each matching document, extracts the hashtag tags from the first tweet, and adds them to a set to remove duplicates. Finally, the function converts the set to a list and returns it.\n",
    "\n",
    "\n",
    "get_node_urls() retrieves a list of unique urls from the first tweet in each document in the specified collection. It uses the collection.find() method to search for documents that contain a key called \"includes.tweets.0.entities.urls\", which indicates that the first tweet in the document has at least one url. It then loops through each matching document, extracts the urls from the first tweet, and adds them to a set to remove duplicates. Finally, the function converts the set to a list and returns it.\n",
    "\n",
    "\n",
    "\n",
    "### Relations\n",
    "\n",
    "get_relationship_tweeted() takes a MongoDB collection as input and returns a list of dictionaries containing information about users who have tweeted. It first retrieves all documents that do not have any referenced tweets. For each document, it extracts the user ID, tweet ID, and created_at_converted. It then checks if the user ID is already in a dictionary called user_tweeted_tweet. If the user ID is not in the dictionary, it adds a new entry with the user ID, an empty list for tweeted tweets, and an empty list for the created_at_converted values. It then appends the tweet ID and created_at_converted value to the corresponding lists in the dictionary. Finally, it returns a list of the values in the user_tweeted_tweet dictionary.\n",
    "\n",
    "get_relationship_retweeted() takes a MongoDB collection as input and returns a list of dictionaries containing information about users who have retweeted tweets. It first retrieves all documents that have at least one referenced tweet. For each document, it extracts the user ID, tweet ID, created_at_converted, and referenced tweet type. If the referenced tweet type is \"retweeted\", it checks if the user ID is already in a dictionary called user_retweeted_tweet. If the user ID is not in the dictionary, it adds a new entry with the user ID, an empty list for retweeted tweets, and an empty list for the created_at_converted values. It then appends the tweet ID and created_at_converted value to the corresponding lists in the dictionary. Finally, it returns a list of the values in the user_retweeted_tweet dictionary.\n",
    "\n",
    "get_relationship_quoted() takes a MongoDB collection as input and returns a list of dictionaries containing information about users who have quoted tweets. It first retrieves all documents that have at least one referenced tweet. For each document, it extracts the user ID, tweet ID, created_at_converted, and referenced tweet type. If the referenced tweet type is \"quoted\", it checks if the user ID is already in a dictionary called user_quoted_tweet. If the user ID is not in the dictionary, it adds a new entry with the user ID, an empty list for quoted tweets, and an empty list for the created_at_converted values. It then appends the tweet ID and created_at_converted value to the corresponding lists in the dictionary. Finally, it returns a list of the values in the user_quoted_tweet dictionary.\n",
    "\n",
    "get_relationship_replied_to() takes a MongoDB collection as input and returns a list of dictionaries containing information about users who have replied to tweets. It first retrieves all documents that have at least one referenced tweet. For each document, it extracts the user ID, tweet ID, created_at_converted, and referenced tweet type. If the referenced tweet type is \"replied_to\", it checks if the user ID is already in a dictionary called user_replied_to_tweet. If the user ID is not in the dictionary, it adds a new entry with the user ID, an empty list for replied tweets, and an empty list for the created_at_converted values. It then appends the tweet ID and created_at_converted value to the corresponding lists in the dictionary. Finally, it returns a list of the values in the user_replied_to_tweet dictionary.\n",
    "\n",
    "get_relationship_has_hashtag(), retrieves information about the relationship between tweets and hashtags in the specified collection. It searches for documents that contain a key called \"includes.tweets.0.entities.hashtags\" and extracts the tweet ID and associated hashtags. The function returns a list of tweet objects with their associated hashtags.\n",
    "\n",
    "get_relationship_has_url(), retrieves information about the relationship between tweets and urls in the specified collection. It searches for documents that contain a key called \"includes.tweets.0.entities.urls\" and extracts the tweet ID and associated urls. The function returns a list of tweet objects with their associated urls.\n",
    "\n",
    "get_relationship_used_hashtag() retrieves all tweets that contains hashtags. For each tweet, the function extracts any new hashtag found in the tweet to the user's existing list of hashtags, and removes any duplicates. Once all documents have been processed, the function returns a list of dictionaries, where each dictionary represents a user and the hashtags they have used in their tweets.\n",
    "\n",
    "get_relationship_used_urls() retrieves all tweets that contains urls. For each tweet, the function extracts any new url found in the tweet to the user's existing list of urls, and removes any duplicates. Once all documents have been processed, the function returns a list of dictionaries, where each dictionary represents a user and the urls they have used in their tweets.\n",
    "\n",
    "\n",
    "get_relationship_mentioned() extracts a list of dictionaries representing the relationships between users based on mentions in their tweets. It first queries the collection for documents with tweets that mention other users. For each document, it extracts the user ID and iterates over each mention in the tweet's \"entities\" field to count how many times the user mentioned that particular mention. Finally, it returns a list of dictionaries, where each dictionary contains a user ID and a list of mentions with their counts."
   ],
   "metadata": {
    "collapsed": false
   }
  },
  {
   "cell_type": "code",
   "execution_count": 16,
   "outputs": [],
   "source": [
    "from python_utils.mongo_python import set_mongo_connection, get_node_users , get_node_tweets , get_node_hashtags , get_node_urls, get_relationship_tweeted , get_relationship_retweeted, get_relationship_quoted, get_relationship_replied_to ,get_relationship_has_hashtag, get_relationship_has_url, get_relationship_used_hashtag, get_relationship_used_urls, get_relationship_mentioned"
   ],
   "metadata": {
    "collapsed": false,
    "ExecuteTime": {
     "start_time": "2023-04-05T18:16:21.362401Z",
     "end_time": "2023-04-05T18:16:21.387746Z"
    }
   }
  },
  {
   "cell_type": "markdown",
   "source": [
    "Examples :"
   ],
   "metadata": {
    "collapsed": false
   }
  },
  {
   "cell_type": "code",
   "execution_count": 2,
   "outputs": [],
   "source": [
    "client,database,collection = set_mongo_connection(\n",
    "    \"mongodb://localhost:27017/\",\n",
    "    \"local\",\n",
    "    \"test\"\n",
    ")\n",
    "\n",
    "#nodes\n",
    "users = get_node_users(collection)\n",
    "tweets = get_node_tweets(collection)\n",
    "hashtags = get_node_hashtags(collection)\n",
    "urls = get_node_urls(collection)\n",
    "\n",
    "#relationships\n",
    "tweeted = get_relationship_tweeted(collection)\n",
    "retweeted = get_relationship_retweeted(collection)\n",
    "quoted = get_relationship_quoted(collection)\n",
    "replied_to = get_relationship_replied_to(collection)\n",
    "has_hashtag = get_relationship_has_hashtag(collection)\n",
    "has_url = get_relationship_has_url(collection)\n",
    "used_hashtag = get_relationship_used_hashtag(collection)\n",
    "used_urls = get_relationship_used_urls(collection)\n",
    "mentioned = get_relationship_mentioned(collection)\n"
   ],
   "metadata": {
    "collapsed": false,
    "ExecuteTime": {
     "start_time": "2023-04-05T18:05:49.477071Z",
     "end_time": "2023-04-05T18:08:12.040268Z"
    }
   }
  },
  {
   "cell_type": "markdown",
   "source": [
    "## Below, there are samples of the produced data of each function"
   ],
   "metadata": {
    "collapsed": false
   }
  },
  {
   "cell_type": "markdown",
   "source": [
    "### User nodes"
   ],
   "metadata": {
    "collapsed": false
   }
  },
  {
   "cell_type": "code",
   "execution_count": 3,
   "outputs": [
    {
     "name": "stdout",
     "output_type": "stream",
     "text": [
      "------ User nodes --------\n",
      "{'id': '860025761167572993', 'followers': 35, 'username': 'Sukhmanjeetkau2', 'info_last_updated': datetime.datetime(2023, 1, 25, 23, 59, 30)}\n",
      "{'id': '1389705763208237056', 'followers': 12552, 'username': 'LauraDoodlesToo', 'info_last_updated': datetime.datetime(2023, 1, 25, 23, 59, 16)}\n",
      "{'id': '1495625777605488642', 'followers': 7701, 'username': 'AnastasiaNFTart', 'info_last_updated': datetime.datetime(2023, 1, 25, 23, 59, 16)}\n",
      "{'id': '1613967463', 'followers': 439, 'username': 'esquivel_gifted', 'info_last_updated': datetime.datetime(2023, 1, 25, 23, 58)}\n",
      "{'id': '959355565', 'followers': 342, 'username': 'DevonGarritt', 'info_last_updated': datetime.datetime(2023, 1, 25, 23, 58)}\n"
     ]
    }
   ],
   "source": [
    "print(\"------ User nodes --------\")\n",
    "for user in users[:5]:\n",
    "    print(user)"
   ],
   "metadata": {
    "collapsed": false,
    "ExecuteTime": {
     "start_time": "2023-04-05T18:08:12.039269Z",
     "end_time": "2023-04-05T18:08:12.058274Z"
    }
   }
  },
  {
   "cell_type": "markdown",
   "source": [
    "### Tweet nodes"
   ],
   "metadata": {
    "collapsed": false
   }
  },
  {
   "cell_type": "code",
   "execution_count": 4,
   "outputs": [
    {
     "name": "stdout",
     "output_type": "stream",
     "text": [
      "------ Tweet nodes --------\n",
      "{'tweet_id': '1618398184312639491', 'author_id': '860025761167572993', 'created_at': '2023-01-25T23:59:30.000Z', 'retweet_count': 0, 'referenced_tweets': [{'type': None, 'tweet_id': None}]}\n",
      "{'tweet_id': '1618398126364299264', 'author_id': '1389705763208237056', 'created_at': '2023-01-25T23:59:16.000Z', 'retweet_count': 15, 'referenced_tweets': [{'type': 'retweeted', 'tweet_id': '1618170911366184962'}]}\n",
      "{'tweet_id': '1618397809140715524', 'author_id': '1613967463', 'created_at': '2023-01-25T23:58:00.000Z', 'retweet_count': 0, 'referenced_tweets': [{'type': 'replied_to', 'tweet_id': '1618315710299803649'}]}\n",
      "{'tweet_id': '1618397053452963840', 'author_id': '1267581258424557568', 'created_at': '2023-01-25T23:55:00.000Z', 'retweet_count': 12, 'referenced_tweets': [{'type': 'retweeted', 'tweet_id': '1618354372135747586'}]}\n",
      "{'tweet_id': '1618397050256904193', 'author_id': '24725968', 'created_at': '2023-01-25T23:54:59.000Z', 'retweet_count': 1, 'referenced_tweets': [{'type': 'retweeted', 'tweet_id': '1618315393457610753'}]}\n"
     ]
    }
   ],
   "source": [
    "print(\"------ Tweet nodes --------\")\n",
    "for tweet in tweets[:5]:\n",
    "    print(tweet)"
   ],
   "metadata": {
    "collapsed": false,
    "ExecuteTime": {
     "start_time": "2023-04-05T18:08:12.056274Z",
     "end_time": "2023-04-05T18:08:12.087281Z"
    }
   }
  },
  {
   "cell_type": "markdown",
   "source": [
    "### Hashtag nodes"
   ],
   "metadata": {
    "collapsed": false
   }
  },
  {
   "cell_type": "code",
   "execution_count": 5,
   "outputs": [
    {
     "name": "stdout",
     "output_type": "stream",
     "text": [
      "------ Hashtag nodes --------\n",
      "samaaupdates\n",
      "femalelife\n",
      "kdrama\n",
      "womenincrypto\n",
      "womeningrss\n"
     ]
    }
   ],
   "source": [
    "print(\"------ Hashtag nodes --------\")\n",
    "for hashtag in hashtags[:5]:\n",
    "    print(hashtag)"
   ],
   "metadata": {
    "collapsed": false,
    "ExecuteTime": {
     "start_time": "2023-04-05T18:08:12.073276Z",
     "end_time": "2023-04-05T18:08:12.088280Z"
    }
   }
  },
  {
   "cell_type": "markdown",
   "source": [
    "### Url nodes"
   ],
   "metadata": {
    "collapsed": false
   }
  },
  {
   "cell_type": "code",
   "execution_count": 6,
   "outputs": [
    {
     "name": "stdout",
     "output_type": "stream",
     "text": [
      "------ Url nodes --------\n",
      "https://t.co/PrXaQ6IyJL\n",
      "https://t.co/YGX6684LHE\n",
      "https://t.co/O3KSmRoF3R\n",
      "https://t.co/MBkAoDibQt\n",
      "https://t.co/kWGY9l6Axc\n"
     ]
    }
   ],
   "source": [
    "print(\"------ Url nodes --------\")\n",
    "for url in urls[:5]:\n",
    "    print(url)"
   ],
   "metadata": {
    "collapsed": false,
    "ExecuteTime": {
     "start_time": "2023-04-05T18:08:12.087281Z",
     "end_time": "2023-04-05T18:08:12.105283Z"
    }
   }
  },
  {
   "cell_type": "markdown",
   "source": [
    "### User tweeted a tweet relation"
   ],
   "metadata": {
    "collapsed": false
   }
  },
  {
   "cell_type": "code",
   "execution_count": 7,
   "outputs": [
    {
     "name": "stdout",
     "output_type": "stream",
     "text": [
      "------ User tweeted a tweet --------\n",
      "{'id': '860025761167572993', 'tweeted': ['1618398184312639491', '1616586245395648512'], 'created_at_converted': [datetime.datetime(2023, 1, 25, 23, 59, 30), datetime.datetime(2023, 1, 20, 23, 59, 30)]}\n",
      "{'id': '820359116212142081', 'tweeted': ['1618396803979788289', '1617599317564325911', '1616873521614884865', '1616511130158997504'], 'created_at_converted': [datetime.datetime(2023, 1, 25, 23, 54, 1), datetime.datetime(2023, 1, 23, 19, 5, 5), datetime.datetime(2023, 1, 21, 19, 1, 2), datetime.datetime(2023, 1, 20, 19, 1, 1)]}\n"
     ]
    }
   ],
   "source": [
    "print(\"------ User tweeted a tweet --------\")\n",
    "for user_tweet_relation in tweeted[:2]:\n",
    "    print(user_tweet_relation)"
   ],
   "metadata": {
    "collapsed": false,
    "ExecuteTime": {
     "start_time": "2023-04-05T18:08:12.103283Z",
     "end_time": "2023-04-05T18:08:12.142302Z"
    }
   }
  },
  {
   "cell_type": "markdown",
   "source": [
    "### User retweeted a tweet relation"
   ],
   "metadata": {
    "collapsed": false
   }
  },
  {
   "cell_type": "code",
   "execution_count": 8,
   "outputs": [
    {
     "name": "stdout",
     "output_type": "stream",
     "text": [
      "------ User retweeted a tweet --------\n",
      "{'id': '1389705763208237056', 'retweeted': ['1618398126364299264', '1617651217836167169'], 'created_at_converted': [datetime.datetime(2023, 1, 25, 23, 59, 16), datetime.datetime(2023, 1, 23, 22, 31, 19)]}\n",
      "{'id': '1267581258424557568', 'retweeted': ['1618397053452963840'], 'created_at_converted': [datetime.datetime(2023, 1, 25, 23, 55)]}\n",
      "{'id': '24725968', 'retweeted': ['1618397050256904193', '1617715226211921925', '1616547691047043072', '1616097000478449664', '1616096893960081414', '1615756643668746240', '1615509814880178176', '1615451679385608211', '1615439765817462784', '1615439720313413650', '1615026052048486400'], 'created_at_converted': [datetime.datetime(2023, 1, 25, 23, 54, 59), datetime.datetime(2023, 1, 24, 2, 45, 40), datetime.datetime(2023, 1, 20, 21, 26, 18), datetime.datetime(2023, 1, 19, 15, 35, 25), datetime.datetime(2023, 1, 19, 15, 34, 59), datetime.datetime(2023, 1, 18, 17, 2, 57), datetime.datetime(2023, 1, 18, 0, 42, 9), datetime.datetime(2023, 1, 17, 20, 51, 8), datetime.datetime(2023, 1, 17, 20, 3, 48), datetime.datetime(2023, 1, 17, 20, 3, 37), datetime.datetime(2023, 1, 16, 16, 39, 51)]}\n"
     ]
    }
   ],
   "source": [
    "print(\"------ User retweeted a tweet --------\")\n",
    "for user_retweet_relation in retweeted[:3]:\n",
    "    print(user_retweet_relation)"
   ],
   "metadata": {
    "collapsed": false,
    "ExecuteTime": {
     "start_time": "2023-04-05T18:08:12.117286Z",
     "end_time": "2023-04-05T18:08:12.143293Z"
    }
   }
  },
  {
   "cell_type": "markdown",
   "source": [
    "### User quoted a tweet relation"
   ],
   "metadata": {
    "collapsed": false
   }
  },
  {
   "cell_type": "code",
   "execution_count": 9,
   "outputs": [
    {
     "name": "stdout",
     "output_type": "stream",
     "text": [
      "------ User quoted a tweet --------\n",
      "{'id': '2305580258', 'quoted': ['1618395216091951104'], 'created_at_converted': [datetime.datetime(2023, 1, 25, 23, 47, 42)]}\n",
      "{'id': '1105501302056980487', 'quoted': ['1618388634025234432'], 'created_at_converted': [datetime.datetime(2023, 1, 25, 23, 21, 33)]}\n",
      "{'id': '1275952135683923970', 'quoted': ['1618387011932676096', '1618386859104800769', '1618386762719719425', '1618386625704361984', '1618386217867055104', '1618385577308745730'], 'created_at_converted': [datetime.datetime(2023, 1, 25, 23, 15, 6), datetime.datetime(2023, 1, 25, 23, 14, 30), datetime.datetime(2023, 1, 25, 23, 14, 7), datetime.datetime(2023, 1, 25, 23, 13, 34), datetime.datetime(2023, 1, 25, 23, 11, 57), datetime.datetime(2023, 1, 25, 23, 9, 24)]}\n",
      "{'id': '1676817841', 'quoted': ['1618386195893059584'], 'created_at_converted': [datetime.datetime(2023, 1, 25, 23, 11, 51)]}\n",
      "{'id': '1315511783784734720', 'quoted': ['1618383805093654528'], 'created_at_converted': [datetime.datetime(2023, 1, 25, 23, 2, 21)]}\n"
     ]
    }
   ],
   "source": [
    "print(\"------ User quoted a tweet --------\")\n",
    "for user_quoted_relation in quoted[:5]:\n",
    "    print(user_quoted_relation)"
   ],
   "metadata": {
    "collapsed": false,
    "ExecuteTime": {
     "start_time": "2023-04-05T18:08:12.133290Z",
     "end_time": "2023-04-05T18:08:12.151371Z"
    }
   }
  },
  {
   "cell_type": "markdown",
   "source": [
    "### User replied to a tweet relation"
   ],
   "metadata": {
    "collapsed": false
   }
  },
  {
   "cell_type": "code",
   "execution_count": 10,
   "outputs": [
    {
     "name": "stdout",
     "output_type": "stream",
     "text": [
      "------ User replied to a tweet -------\n",
      "{'id': '1613967463', 'replied_to': ['1618397809140715524'], 'created_at_converted': [datetime.datetime(2023, 1, 25, 23, 58)]}\n",
      "{'id': '16677451', 'replied_to': ['1618393931364065281'], 'created_at_converted': [datetime.datetime(2023, 1, 25, 23, 42, 36)]}\n",
      "{'id': '61746508', 'replied_to': ['1618386434796453888'], 'created_at_converted': [datetime.datetime(2023, 1, 25, 23, 12, 48)]}\n",
      "{'id': '1373680554420416513', 'replied_to': ['1618371504294735873', '1617982923961176064', '1617212709204033536', '1616796940749996034', '1616529674473033728', '1616165881108643867', '1615764790118318116', '1615413379568484353', '1615039508340432896'], 'created_at_converted': [datetime.datetime(2023, 1, 25, 22, 13, 29), datetime.datetime(2023, 1, 24, 20, 29, 24), datetime.datetime(2023, 1, 22, 17, 28, 50), datetime.datetime(2023, 1, 21, 13, 56, 43), datetime.datetime(2023, 1, 20, 20, 14, 42), datetime.datetime(2023, 1, 19, 20, 9, 7), datetime.datetime(2023, 1, 18, 17, 35, 20), datetime.datetime(2023, 1, 17, 18, 18, 57), datetime.datetime(2023, 1, 16, 17, 33, 19)]}\n"
     ]
    }
   ],
   "source": [
    "print(\"------ User replied to a tweet -------\")\n",
    "for user_replied_to_relation in replied_to[:4]:\n",
    "    print(user_replied_to_relation)"
   ],
   "metadata": {
    "collapsed": false,
    "ExecuteTime": {
     "start_time": "2023-04-05T18:08:12.150373Z",
     "end_time": "2023-04-05T18:08:12.168376Z"
    }
   }
  },
  {
   "cell_type": "markdown",
   "source": [
    "### Tweet has hashtag relation"
   ],
   "metadata": {
    "collapsed": false
   }
  },
  {
   "cell_type": "code",
   "execution_count": 11,
   "outputs": [
    {
     "name": "stdout",
     "output_type": "stream",
     "text": [
      "------ Tweet has hashtag --------\n",
      "{'tweet_id': '1618398184312639491', 'hashtags': ['leetcode', 'django', 'python', 'java', 'codinglife', 'softwaredeveloper', 'coding', '100daysofcode', 'womenintech', 'womenwhocode', '100daysofcodechallenge']}\n",
      "{'tweet_id': '1618398126364299264', 'hashtags': ['gm']}\n",
      "{'tweet_id': '1618397050256904193', 'hashtags': ['avtweeps']}\n",
      "{'tweet_id': '1618396952034693121', 'hashtags': ['transgirl', 'tsgirl', 'trans']}\n",
      "{'tweet_id': '1618396803979788289', 'hashtags': ['womeninspringwomen', 'iwintech', 'womenintech']}\n"
     ]
    }
   ],
   "source": [
    "print(\"------ Tweet has hashtag --------\")\n",
    "for tweet_hashtag_relation in has_hashtag[:5]:\n",
    "    print(tweet_hashtag_relation)"
   ],
   "metadata": {
    "collapsed": false,
    "ExecuteTime": {
     "start_time": "2023-04-05T18:08:12.166375Z",
     "end_time": "2023-04-05T18:08:12.215394Z"
    }
   }
  },
  {
   "cell_type": "markdown",
   "source": [
    "### Tweet has url relation"
   ],
   "metadata": {
    "collapsed": false
   }
  },
  {
   "cell_type": "code",
   "execution_count": 12,
   "outputs": [
    {
     "name": "stdout",
     "output_type": "stream",
     "text": [
      "------ Tweet has url --------\n",
      "{'tweet_id': '1618396803979788289', 'urls': ['https://t.co/Vx1u1HWryP', 'https://t.co/u4dNamohFg', 'https://t.co/n3FZa3UrjS']}\n",
      "{'tweet_id': '1618395216091951104', 'urls': ['https://t.co/B3zelTTchl', 'https://t.co/siff9VQxin', 'https://t.co/HkyhbGBfNH']}\n",
      "{'tweet_id': '1618395108868608001', 'urls': ['https://t.co/cKAzCbhK5C']}\n",
      "{'tweet_id': '1618393537044942848', 'urls': ['https://t.co/aJvRhVApmH']}\n",
      "{'tweet_id': '1618393472859508739', 'urls': ['https://t.co/aJvRhVApmH']}\n"
     ]
    }
   ],
   "source": [
    "print(\"------ Tweet has url --------\")\n",
    "for tweet_url_relation in has_url[:5]:\n",
    "    print(tweet_url_relation)"
   ],
   "metadata": {
    "collapsed": false,
    "ExecuteTime": {
     "start_time": "2023-04-05T18:08:12.180384Z",
     "end_time": "2023-04-05T18:08:12.215394Z"
    }
   }
  },
  {
   "cell_type": "markdown",
   "source": [
    "### User used hashtag relation"
   ],
   "metadata": {
    "collapsed": false
   }
  },
  {
   "cell_type": "code",
   "execution_count": 13,
   "outputs": [
    {
     "name": "stdout",
     "output_type": "stream",
     "text": [
      "----- User used hashtag ------\n",
      "{'id': '860025761167572993', 'hashtags': ['leetcode', '100daysofcodechallenge', 'backtracking', 'java', 'inheritance', 'codinglife', 'softwaredeveloper', 'lookingforjob', 'coding', '100daysofcode', 'womenwhocode', 'womenintech', 'python', 'django']}\n",
      "{'id': '1389705763208237056', 'hashtags': ['gm']}\n",
      "{'id': '24725968', 'hashtags': ['womeninav', 'avtweeps', 'mondaymotivation', 'avixawomen', 'befierce', 'thefutureisfemale', 'dei', 'wods', 'womeninstem', 'wavit', 'womenintech', 'digitalsignage', 'womeninit', 'ripplesmakewaves', 'womenwhocode', 'avpluspod', 'bebold', 'proav']}\n",
      "{'id': '921741324579155968', 'hashtags': ['transgirl', 'tsgirl', 'trans']}\n",
      "{'id': '820359116212142081', 'hashtags': ['womeninspringwomen', 'heritagefoundationofpakistan', 'iwintech', 'womeninstem', 'womenintech', 'stem', 'womeninengineering']}\n"
     ]
    }
   ],
   "source": [
    "print(\"----- User used hashtag ------\")\n",
    "for user_hashtag_relation in used_hashtag[:5]:\n",
    "    print(user_hashtag_relation)"
   ],
   "metadata": {
    "collapsed": false,
    "ExecuteTime": {
     "start_time": "2023-04-05T18:08:12.197388Z",
     "end_time": "2023-04-05T18:08:12.216392Z"
    }
   }
  },
  {
   "cell_type": "markdown",
   "source": [
    "### User used url relation"
   ],
   "metadata": {
    "collapsed": false
   }
  },
  {
   "cell_type": "code",
   "execution_count": 14,
   "outputs": [
    {
     "name": "stdout",
     "output_type": "stream",
     "text": [
      "----- User used url -----\n",
      "{'id': '820359116212142081', 'urls': ['https://t.co/yHTOWzEkWU', 'https://t.co/8UNsZxfr27', 'https://t.co/LLYjgvz4LU', 'https://t.co/h6OH2BAtvo', 'https://t.co/rKZjaVZO2g', 'https://t.co/n3FZa3UrjS', 'https://t.co/Vx1u1HWryP', 'https://t.co/FPyJQF1v78', 'https://t.co/u4dNamohFg']}\n",
      "{'id': '2305580258', 'urls': ['https://t.co/HkyhbGBfNH', 'https://t.co/5gDVFjUyqn', 'https://t.co/USZiKgmBl0', 'https://t.co/ElnK4JE7OV', 'https://t.co/3qiMagXsw1', 'https://t.co/B3zelTTchl', 'https://t.co/S3bcGUiNc3', 'https://t.co/G5UMoeuyaK', 'https://t.co/x9viNy3ZEi', 'https://t.co/siff9VQxin']}\n",
      "{'id': '182004865', 'urls': ['https://t.co/w64H55TqHj', 'https://t.co/oZewMwrGKN', 'https://t.co/cKAzCbhK5C', 'https://t.co/s54OWUEtpe', 'https://t.co/UHOOlO6Qdm', 'https://t.co/hEOt7qitkf']}\n",
      "{'id': '545453835', 'urls': ['https://t.co/aJvRhVApmH']}\n",
      "{'id': '890402868288737280', 'urls': ['https://t.co/aJvRhVApmH']}\n"
     ]
    }
   ],
   "source": [
    "print(\"----- User used url -----\")\n",
    "for user_url_relation in used_urls[:5]:\n",
    "    print(user_url_relation)"
   ],
   "metadata": {
    "collapsed": false,
    "ExecuteTime": {
     "start_time": "2023-04-05T18:08:12.214392Z",
     "end_time": "2023-04-05T18:08:12.229394Z"
    }
   }
  },
  {
   "cell_type": "markdown",
   "source": [
    "### User mentioned user relation"
   ],
   "metadata": {
    "collapsed": false
   }
  },
  {
   "cell_type": "code",
   "execution_count": 15,
   "outputs": [
    {
     "name": "stdout",
     "output_type": "stream",
     "text": [
      "---- User mentioned user -----\n",
      "{'id': '1389705763208237056', 'mentions': [{'id': '1495625777605488642', 'count': 1}, {'id': '29335769', 'count': 1}, {'id': '1549195125204480000', 'count': 1}, {'id': '913423000820682762', 'count': 1}]}\n",
      "{'id': '1613967463', 'mentions': [{'id': '959355565', 'count': 1}, {'id': '430995737', 'count': 1}, {'id': '23483274', 'count': 1}]}\n",
      "{'id': '1267581258424557568', 'mentions': [{'id': '29335769', 'count': 1}, {'id': '3056658161', 'count': 1}]}\n",
      "{'id': '24725968', 'mentions': [{'id': '1458538450571907073', 'count': 4}, {'id': '1562815722455109632', 'count': 8}, {'id': '18138503', 'count': 1}, {'id': '1446159865328685059', 'count': 2}, {'id': '204837082', 'count': 2}, {'id': '15074647', 'count': 3}, {'id': '28601072', 'count': 2}, {'id': '18167325', 'count': 2}, {'id': '777967633', 'count': 1}, {'id': '624844467', 'count': 3}, {'id': '171675792', 'count': 1}, {'id': '811296326197579782', 'count': 4}, {'id': '17158776', 'count': 2}, {'id': '2636082375', 'count': 1}]}\n",
      "{'id': '921741324579155968', 'mentions': [{'id': '1355568913573179394', 'count': 1}]}\n"
     ]
    }
   ],
   "source": [
    "print(\"---- User mentioned user -----\")\n",
    "for user_mention_relation in mentioned[:5]:\n",
    "    print(user_mention_relation)"
   ],
   "metadata": {
    "collapsed": false,
    "ExecuteTime": {
     "start_time": "2023-04-05T18:08:12.229394Z",
     "end_time": "2023-04-05T18:08:12.273756Z"
    }
   }
  },
  {
   "cell_type": "markdown",
   "source": [
    "### Next these functions are going to be used in order to load the data in Neo4j DB"
   ],
   "metadata": {
    "collapsed": false
   }
  }
 ],
 "metadata": {
  "kernelspec": {
   "display_name": "Python 3",
   "language": "python",
   "name": "python3"
  },
  "language_info": {
   "codemirror_mode": {
    "name": "ipython",
    "version": 2
   },
   "file_extension": ".py",
   "mimetype": "text/x-python",
   "name": "python",
   "nbconvert_exporter": "python",
   "pygments_lexer": "ipython2",
   "version": "2.7.6"
  }
 },
 "nbformat": 4,
 "nbformat_minor": 0
}
