{
 "cells": [
  {
   "cell_type": "markdown",
   "source": [
    "## Extract data from Mongo DB with pymongo"
   ],
   "metadata": {
    "collapsed": false
   }
  },
  {
   "cell_type": "markdown",
   "source": [
    "The set_mongo_connection function takes three arguments: connection_string which is the URI connection string to the MongoDB instance, database which is the name of the database to connect to, and collection which is the name of the collection to work with. The function returns three variables: client which is a MongoClient object that represents the connection to the MongoDB instance, db which is a reference to the database object in the MongoDB instance, and col which is a reference to the collection object in the database.\n",
    "\n",
    "The get_users function takes one argument, collection which is the collection object that represents the collection in the MongoDB instance to work with. The function retrieves a list of documents that have a field includes.users that exists using the find method on the collection object. Then, the function loops over each document and extracts information about the users in the includes.users field. It creates a dictionary of unique users based on their id field with respect to the info_last_updated field.\n",
    "\n"
   ],
   "metadata": {
    "collapsed": false
   }
  },
  {
   "cell_type": "code",
   "execution_count": 2,
   "outputs": [],
   "source": [
    "from python_mongo_utils.mongo_python import set_mongo_connection, get_users"
   ],
   "metadata": {
    "collapsed": false
   }
  },
  {
   "cell_type": "markdown",
   "source": [
    "Finally, set the connection to the MongoDB instance and retrieves a list of distinct users using the get_users function with the collection object passed as an argument. The list of users is stored in the users variable."
   ],
   "metadata": {
    "collapsed": false
   }
  },
  {
   "cell_type": "code",
   "execution_count": 3,
   "outputs": [
    {
     "name": "stdout",
     "output_type": "stream",
     "text": [
      "{'id': '860025761167572993', 'followers': 35, 'username': 'Sukhmanjeetkau2', 'info_last_updated': datetime.datetime(2023, 1, 25, 23, 59, 30)}\n",
      "{'id': '1389705763208237056', 'followers': 12552, 'username': 'LauraDoodlesToo', 'info_last_updated': datetime.datetime(2023, 1, 25, 23, 59, 16)}\n",
      "{'id': '1495625777605488642', 'followers': 7701, 'username': 'AnastasiaNFTart', 'info_last_updated': datetime.datetime(2023, 1, 25, 23, 59, 16)}\n",
      "{'id': '1613967463', 'followers': 439, 'username': 'esquivel_gifted', 'info_last_updated': datetime.datetime(2023, 1, 25, 23, 58)}\n",
      "{'id': '959355565', 'followers': 342, 'username': 'DevonGarritt', 'info_last_updated': datetime.datetime(2023, 1, 25, 23, 58)}\n"
     ]
    }
   ],
   "source": [
    "client,database,collection = set_mongo_connection(\n",
    "    \"mongodb://localhost:27017/\",\n",
    "    \"local\",\n",
    "    \"test\"\n",
    ")\n",
    "\n",
    "users = get_users(collection)\n",
    "\n",
    "for user in users[:5]:\n",
    "    print(user)"
   ],
   "metadata": {
    "collapsed": false
   }
  },
  {
   "cell_type": "code",
   "execution_count": 3,
   "outputs": [],
   "source": [],
   "metadata": {
    "collapsed": false
   }
  }
 ],
 "metadata": {
  "kernelspec": {
   "display_name": "Python 3",
   "language": "python",
   "name": "python3"
  },
  "language_info": {
   "codemirror_mode": {
    "name": "ipython",
    "version": 2
   },
   "file_extension": ".py",
   "mimetype": "text/x-python",
   "name": "python",
   "nbconvert_exporter": "python",
   "pygments_lexer": "ipython2",
   "version": "2.7.6"
  }
 },
 "nbformat": 4,
 "nbformat_minor": 0
}
