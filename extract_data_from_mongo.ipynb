{
 "cells": [
  {
   "cell_type": "markdown",
   "source": [
    "# Extract data from Mongo DB with pymongo"
   ],
   "metadata": {
    "collapsed": false
   }
  },
  {
   "cell_type": "markdown",
   "source": [
    "### Nodes\n",
    "\n",
    "set_mongo_connection(), sets up a connection to a MongoDB database using a connection string, database name, and collection name. It returns the client, db, and col objects which can be used to perform further operations on the database.\n",
    "\n",
    "get_node_users() retrieves information about Twitter users from a MongoDB database, either from tweets that include user mentions or from tweets that include certain keywords or hashtags. It creates a dictionary representing each user found, including the user's ID, username, number of followers (if available), and the date the tweet was created. It then combines the dictionaries into a single list, removes any duplicate users based on their ID, and returns the resulting list sorted by the date the tweet was created.\n",
    "\n",
    "\n",
    "get_node_tweets(), retrieves information about Twitter tweets from the specified collection. It searches for documents that contain a key called \"includes.tweets\" and extracts information such as tweet ID, author ID, creation time, and number of retweets. It also checks for any referenced tweets and adds them to a list if present. The function returns a list of tweet objects.\n",
    "\n",
    "get_node_hashtags(), retrieves a list of unique hashtags from the first tweet in each document in the specified collection. It uses the collection.find() method to search for documents that contain a key called \"includes.tweets.0.entities.hashtags\", which indicates that the first tweet in the document has at least one hashtag. It then loops through each matching document, extracts the hashtag tags from the first tweet, and adds them to a set to remove duplicates. Finally, the function converts the set to a list and returns it.\n",
    "\n",
    "\n",
    "get_node_urls() retrieves a list of unique urls from the first tweet in each document in the specified collection. It uses the collection.find() method to search for documents that contain a key called \"includes.tweets.0.entities.urls\", which indicates that the first tweet in the document has at least one url. It then loops through each matching document, extracts the urls from the first tweet, and adds them to a set to remove duplicates. Finally, the function converts the set to a list and returns it.\n",
    "\n",
    "\n",
    "\n",
    "### Relations\n",
    "\n",
    "get_relationship_tweeted() takes a MongoDB collection as input and returns a list of dictionaries, where each dictionary represents a user who has tweeted at least once, and the values in the dictionary include the user ID, a list of tweet IDs the user has tweeted, and a list of corresponding tweet creation dates. The function first queries the MongoDB collection for documents where the first tweet exists, and then iterates through these documents. For each document, it extracts the user ID, tweet ID, and creation date for the first tweet in the document. If the user ID has not yet been encountered, a new dictionary is created for that user with the user ID as the 'id' value, empty lists for tweet IDs and creation dates. Otherwise, the tweet ID and creation date are appended to the corresponding lists for that user. Finally, the function returns a list of the user dictionaries.\n",
    "\n",
    "get_relationship_has_hashtag(), retrieves information about the relationship between tweets and hashtags in the specified collection. It searches for documents that contain a key called \"includes.tweets.0.entities.hashtags\" and extracts the tweet ID and associated hashtags. The function returns a list of tweet objects with their associated hashtags.\n",
    "\n",
    "get_relationship_has_url(), retrieves information about the relationship between tweets and urls in the specified collection. It searches for documents that contain a key called \"includes.tweets.0.entities.urls\" and extracts the tweet ID and associated urls. The function returns a list of tweet objects with their associated urls.\n",
    "\n",
    "get_relationship_used_hashtag() retrieves all tweets that contains hashtags. For each tweet, the function extracts any new hashtag found in the tweet to the user's existing list of hashtags, and removes any duplicates. Once all documents have been processed, the function returns a list of dictionaries, where each dictionary represents a user and the hashtags they have used in their tweets.\n",
    "\n",
    "get_relationship_used_urls() retrieves all tweets that contains urls. For each tweet, the function extracts any new url found in the tweet to the user's existing list of urls, and removes any duplicates. Once all documents have been processed, the function returns a list of dictionaries, where each dictionary represents a user and the urls they have used in their tweets.\n",
    "\n",
    "\n",
    "get_relationship_mentioned() extracts a list of dictionaries containing information about users and the other users they mentioned in their tweets. The function starts by querying the collection to find documents where the \"entities.mentions\" field exists within the first tweet in the \"includes.tweets\" array. It then loops through each document, extracts the user ID and the tweet information, and adds the mentioned users to a set. If the user has not been encountered before, a new dictionary is created with the user's ID and a list of mentioned user IDs. If the user has been encountered before, the mentioned user IDs are added to the existing list and duplicates are removed. Finally, the function converts the dictionary of user information to a list of dictionaries and returns it."
   ],
   "metadata": {
    "collapsed": false
   }
  },
  {
   "cell_type": "code",
   "execution_count": 1,
   "outputs": [
    {
     "name": "stdout",
     "output_type": "stream",
     "text": [
      "{'id': '1389705763208237056', 'mentions': ['1495625777605488642', '913423000820682762', '1549195125204480000', '29335769']}\n",
      "{'id': '1613967463', 'mentions': ['959355565', '23483274', '430995737']}\n",
      "{'id': '1267581258424557568', 'mentions': ['3056658161', '29335769']}\n",
      "{'id': '24725968', 'mentions': ['204837082', '18167325', '171675792', '15074647', '624844467', '1458538450571907073', '811296326197579782', '1562815722455109632', '18138503', '777967633', '2636082375', '1446159865328685059', '28601072', '17158776']}\n",
      "{'id': '921741324579155968', 'mentions': ['1355568913573179394']}\n",
      "{'id': '1371551211351121920', 'mentions': ['803899726949183488', '810073220518998016', '1442855916752097295', '1405210526', '79368487', '1587192924', '836510570', '3152601224', '1504546145015578624', '1375436140287823875', '71349346', '1039411179473567744', '437085205', '138381697', '26645387', '1599833051550388224', '15825547', '1237460496846139393', '14177942', '8457092', '17137628', '1237992136995266561', '989593680834113536', '1554325492714848258', '1511400651087134734', '84602512', '22604156', '2735591', '14291684', '1243178348282445825', '375263171', '3396828819', '1475535630', '2409085213', '43988067', '2317661245', '461554757', '1480189160128491522', '855789529982226434', '176915580', '3226093904', '1941798829', '774550615204790272', '398949811', '14075836', '15538226', '876650093360885760', '97683701', '988678319255293952', '1070957801667739650', '1202551645470638080', '15161903', '2266034191', '1237635216627453952', '1436129268858245122', '90435017', '1015981834306404352', '1298628618784997376', '1264433760', '3937914677', '884692490829393920', '1277896660354502657', '280656411', '3512757083', '786577381972672512', '3063892619', '51142785', '963937884737740800', '1493112658765430784', '1200097035548016640', '35704105', '1186144637012074497', '1034567534844891136', '4836879915', '15749983', '3317348164', '42034114', '1546559491382050816', '2711212681', '15426896', '555031989', '2572663501', '2897266280', '40425262', '1425491965760753675', '3836199688', '1606226282', '1517796456949817347', '384916348', '709954678310703105', '2244994945', '87151593', '1059639521556320256', '26486556', '998835473903742977', '1546153346', '20927633', '1136327964', '1481430079725002753', '1447929950892396557', '1400505730323599369', '34564752', '768161136881520640', '1309548880078548992', '540294707', '1343403611414548480', '22000262', '1551246583110434818', '887463997842128896', '2589423217', '441752406', '3064831713', '985812316297093120', '1025638818068590592', '1347068541913210882', '822283566914510850', '176742962', '1427640992237297667', '1347232070', '348783600', '2305580258', '16476911', '1410422706', '874394695', '16152237', '570233091', '1486998297889943555', '1587697521463537665', '741337705', '1010498049058201600', '1396737644944633857', '1403861754808049666', '707581369145303041', '3260572027', '341643950', '101712079', '495063100', '29335769', '437698597', '1005777314', '1260826703305281536', '1009016449824849920', '24725968', '782993394100477952', '1093986133', '1668100142', '60033', '1205271445980565509', '1273349195898863617', '1028595288', '68433676', '820359116212142081', '974317246888710145', '1510639907856859150', '14065217', '280949688', '1554589610881286145', '69175407', '352515718', '379327241', '386538440', '938851', '1190621791670198273', '1459377244682563585', '15948159', '1161992331626549248', '1204830366793515008', '73833182', '1279796269452603393', '4338452835', '2307675307', '1155919832451362816', '1389585274573709313', '1318797389457752064', '2976814667', '3444849135', '1585920515658911744', '366676506', '731952775769280515', '16693331', '15033793', '1324242668218507265', '54290504', '3164953486', '725560486385831941', '1509096411371085824', '738752276836306944', '1051053836', '598157131', '841726332811804673', '498865225', '16359238', '396214728', '1569009953968427012', '2869663966', '14262772', '737142202481016832', '1584542233386164226', '917007096209723392', '1299408961586724865', '16897908', '1674589274', '1247189573819604993', '700473712055754752', '1417127326211526658', '1500199638984499210', '21020590', '1482466710242443267', '4263007693', '1005135519355768832', '1254132915086082048', '1151429767029305344', '409997594', '95877096', '29130296', '1242104703170871296', '774486543369207809', '1471084534208815106', '1473702945703317512', '1039940551121035265', '3018202946', '109924323', '989529295159783424', '1476262356019814411', '1482230417583644673', '1281518349747453952', '1268101637802987521', '235684766', '1202365879', '1493660854855872519', '431632522', '1504657275880882176', '284459202', '1354157107457765377', '1392933587146743808', '1131588341718298625', '1084956566971920384', '2415478665', '2479486631', '903582927795126272', '1070436126777860098', '1051212501910777857', '1562902989517467649', '1277616236801605632', '26554000', '362672048', '1126068392308297729', '1634756136', '111012190', '1042633271421689857', '213960188', '851614359373721602', '44491851', '1467833659466072071', '1490401189455872003', '335602182', '988858824890044416', '1269107130776223745', '1486826627497697280', '979320115568234496', '59838526', '878179630351605760', '879428623287152644', '1454521532676411399', '395116026', '110665708', '117237387', '807883267', '1596617215230386176', '1604818946481340417', '78556910', '917363852483944448', '1488480666635354117', '2782205012', '3335731978', '9313022', '1163554321117536256', '1520855574522392576', '1522601730680176643', '1165196150170955777', '3380282686', '4775602823', '1427706589', '902924718575104000', '1726099460', '894461167179116544', '420244711', '743149466', '1537795201162522629', '807334061387743232', '1523385318317170691', '143037586', '832634164537081856', '1437944713563328516', '3154429509', '21312954', '372866049', '705539763349164032', '12908462', '966313275192479745', '2328002822', '2869370800', '1326795924920733696', '1485401129324142594', '2605112473', '1193617546362150912', '885256742', '3131243261', '1295244441196924936', '1498633977606856709', '1591629302117945346', '104282770', '994063587328045056', '285509027', '829208994204024832', '1614687621325676547', '1275952135683923970', '3015418192', '908714359135854592', '3841119673', '15221598', '996756833586024448', '1539497663204315137', '898846408316473344', '720474368', '222936821', '1243057482', '18371803', '2477158843', '345673106', '243665363', '1475864266913820674', '17344705', '3226394854', '1246118622306631682', '14775374', '2990246339', '3111534903', '1549195125204480000', '1030917851744555008', '2382362635', '1607134242999246848', '898841838672650240', '2473963118', '807095', '711392625', '1434058149967892482', '1868453156', '1016875595857387520', '3394775267', '1136639034900582400', '14307632', '910621028212203521', '769084714036625409', '775651057011744768', '1177891142072963072', '2738087632', '3056658161', '1027878630', '1301574819247534083', '23600276', '1031554995127242752', '181923786', '518238327', '1005406932', '29161746', '18020612', '36374194', '1543893439628156929', '3309005317', '87606674', '1496483835441254400', '1104333879522066432', '11759072', '872326943458373632', '2732022577', '1502096954628587520', '1079579727570952197', '915040150794723331', '1341135736867700736', '1216490271757807617', '1199818892', '430995737', '735826260438450176', '707175613740785664', '130344472', '17769945', '1599754136219680770', '1537381896895725574', '66998204', '75673231', '298704683', '1562815722455109632', '1111421258510426118', '281733305', '1519951648990593024', '709317259290869760', '852946960558440448', '1537863192591802368', '1095654167270645760', '2345300647', '2410878143', '993112885', '66780587', '1511795076598571011', '855466426911600640', '3424141793', '1490377965745672193', '504412024', '30883103', '980528650561912832', '1503379537673007107', '3664010961', '3429950987', '731528757601783809', '10228272', '1108115666312351744', '1506883432130953218', '1353384573435056128', '46340511', '1622687781406253056', '1291839854968541189', '18525597', '890477809', '1286975775082602498', '898821075248832514', '1535314147084214277', '18539631', '2424259633', '1482023893284290563', '14128641', '1513315065855893505', '1448071717864230918', '1139589211923910662', '857628663633780736', '912539725071777792', '1385890608594685955', '3164422438', '1415981887', '57617762', '1265586835', '1510890651571060744', '69998347', '1161138218529521664', '14954902', '1415997802321256453', '111457430', '4891781818', '1434028684948557828', '1273964132828680192', '2260837674', '1568093425', '1422042240759877633', '1150467309330477057', '1487557327230504963', '563020869', '4374719908', '1171957520325201920', '18580574', '3288582841', '1460896259674456066', '913423000820682762', '410219569', '74286565', '1167387679081816064', '614476519', '6792792', '824222637719257092', '1452948884574060545', '1454973243731980289', '22756947', '1286188078999248896', '22873424', '21020605', '1214597656674209795', '1052440647410610176', '1448540725684187136', '1334410311265357824', '1528117794734219265', '2963084541', '27860681', '1037996090', '849999376697241601', '65065882', '1267139487039197184', '1148705919347417088', '2147575780', '761908989152071680', '1026863412221947905', '1502081147060330498', '1513880423637876736', '1451736654', '1258343680634748928', '19603444', '90339563', '442449363', '128989640', '2826100122', '1491886714985533448', '24727891', '1084603056', '1584263130913378305', '1575608768578342912', '1185729906920964097', '124945570', '1097627506633592833', '60642052', '44186852', '2250998340', '1239335409219522560', '1502637045025583110', '1373090356351361025']}\n",
      "{'id': '820359116212142081', 'mentions': ['14981648', '3240737620', '47692289', '964081158475735040', '1436064790661763077', '14437914', '98116035', '262319404']}\n",
      "{'id': '981265392915001345', 'mentions': ['2908261119', '807472549']}\n",
      "{'id': '1130092403799592960', 'mentions': ['1534114425032024065']}\n",
      "{'id': '1569329250683211782', 'mentions': ['164263382', '44950782', '385135245', '20646711']}\n"
     ]
    }
   ],
   "source": [
    "from python_utils.mongo_python import set_mongo_connection, get_node_users , get_node_tweets , get_node_hashtags , get_node_urls, get_relationship_tweeted ,get_relationship_has_hashtag, get_relationship_has_url, get_relationship_used_hashtag, get_relationship_used_urls, get_relationship_mentioned"
   ],
   "metadata": {
    "collapsed": false
   }
  },
  {
   "cell_type": "markdown",
   "source": [
    "Examples :"
   ],
   "metadata": {
    "collapsed": false
   }
  },
  {
   "cell_type": "code",
   "execution_count": 2,
   "outputs": [
    {
     "name": "stdout",
     "output_type": "stream",
     "text": [
      "------NODES--------\n",
      "{'id': '860025761167572993', 'followers': 35, 'username': 'Sukhmanjeetkau2', 'info_last_updated': datetime.datetime(2023, 1, 25, 23, 59, 30)}\n",
      "{'id': '1389705763208237056', 'followers': 12552, 'username': 'LauraDoodlesToo', 'info_last_updated': datetime.datetime(2023, 1, 25, 23, 59, 16)}\n",
      "{'id': '1495625777605488642', 'followers': 7701, 'username': 'AnastasiaNFTart', 'info_last_updated': datetime.datetime(2023, 1, 25, 23, 59, 16)}\n",
      "{'id': '1613967463', 'followers': 439, 'username': 'esquivel_gifted', 'info_last_updated': datetime.datetime(2023, 1, 25, 23, 58)}\n",
      "{'id': '959355565', 'followers': 342, 'username': 'DevonGarritt', 'info_last_updated': datetime.datetime(2023, 1, 25, 23, 58)}\n",
      "--------------\n",
      "{'tweet_id': '1618398184312639491', 'author_id': '860025761167572993', 'created_at': '2023-01-25T23:59:30.000Z', 'retweet_count': 0, 'referenced_tweets': None}\n",
      "{'tweet_id': '1618398126364299264', 'author_id': '1389705763208237056', 'created_at': '2023-01-25T23:59:16.000Z', 'retweet_count': 15, 'referenced_tweets': [{'type': 'retweeted', 'tweet_id': '1618170911366184962'}]}\n",
      "{'tweet_id': '1618397809140715524', 'author_id': '1613967463', 'created_at': '2023-01-25T23:58:00.000Z', 'retweet_count': 0, 'referenced_tweets': [{'type': 'replied_to', 'tweet_id': '1618315710299803649'}]}\n",
      "{'tweet_id': '1618397053452963840', 'author_id': '1267581258424557568', 'created_at': '2023-01-25T23:55:00.000Z', 'retweet_count': 12, 'referenced_tweets': [{'type': 'retweeted', 'tweet_id': '1618354372135747586'}]}\n",
      "{'tweet_id': '1618397050256904193', 'author_id': '24725968', 'created_at': '2023-01-25T23:54:59.000Z', 'retweet_count': 1, 'referenced_tweets': [{'type': 'retweeted', 'tweet_id': '1618315393457610753'}]}\n",
      "--------------\n",
      "BTC\n",
      "blackintech\n",
      "medicalbias\n",
      "Ambassador\n",
      "masculinity\n",
      "--------------\n",
      "https://t.co/meHitOWGDJ\n",
      "https://t.co/RDTTr3hJ3K\n",
      "https://t.co/UEMAClQVlD\n",
      "https://t.co/NPvyRPV8J1\n",
      "https://t.co/oHBxlfmqvG\n",
      "------RELATIONS--------\n",
      "{'id': '860025761167572993', 'tweet_ids': ['1618398184312639491', '1616586245395648512'], 'created_at_converted': [datetime.datetime(2023, 1, 25, 23, 59, 30), datetime.datetime(2023, 1, 20, 23, 59, 30)]}\n",
      "{'id': '1389705763208237056', 'tweet_ids': ['1618398126364299264', '1617651217836167169'], 'created_at_converted': [datetime.datetime(2023, 1, 25, 23, 59, 16), datetime.datetime(2023, 1, 23, 22, 31, 19)]}\n",
      "{'id': '1613967463', 'tweet_ids': ['1618397809140715524'], 'created_at_converted': [datetime.datetime(2023, 1, 25, 23, 58)]}\n",
      "{'id': '1267581258424557568', 'tweet_ids': ['1618397053452963840'], 'created_at_converted': [datetime.datetime(2023, 1, 25, 23, 55)]}\n",
      "{'id': '24725968', 'tweet_ids': ['1618397050256904193', '1618263286256144385', '1617715226211921925', '1617545235994927104', '1616547691047043072', '1616122816746725376', '1616097000478449664', '1616096893960081414', '1615756643668746240', '1615730481324064769', '1615509814880178176', '1615451679385608211', '1615439765817462784', '1615439720313413650', '1615439564906061824', '1615431408616366080', '1615426284917751808', '1615371173914710017', '1615026052048486400'], 'created_at_converted': [datetime.datetime(2023, 1, 25, 23, 54, 59), datetime.datetime(2023, 1, 25, 15, 3, 27), datetime.datetime(2023, 1, 24, 2, 45, 40), datetime.datetime(2023, 1, 23, 15, 30, 11), datetime.datetime(2023, 1, 20, 21, 26, 18), datetime.datetime(2023, 1, 19, 17, 18), datetime.datetime(2023, 1, 19, 15, 35, 25), datetime.datetime(2023, 1, 19, 15, 34, 59), datetime.datetime(2023, 1, 18, 17, 2, 57), datetime.datetime(2023, 1, 18, 15, 19), datetime.datetime(2023, 1, 18, 0, 42, 9), datetime.datetime(2023, 1, 17, 20, 51, 8), datetime.datetime(2023, 1, 17, 20, 3, 48), datetime.datetime(2023, 1, 17, 20, 3, 37), datetime.datetime(2023, 1, 17, 20, 3), datetime.datetime(2023, 1, 17, 19, 30, 35), datetime.datetime(2023, 1, 17, 19, 10, 14), datetime.datetime(2023, 1, 17, 15, 31, 14), datetime.datetime(2023, 1, 16, 16, 39, 51)]}\n",
      "--------------\n",
      "{'tweet_id': '1618398184312639491', 'hashtags': ['100DaysOfCodeChallenge', '100DaysOfCode', 'SoftwareDeveloper', 'Java', 'WomenWhoCode', 'womenintech', 'coding', 'codinglife', 'Leetcode', 'Django', 'Python']}\n",
      "{'tweet_id': '1618398126364299264', 'hashtags': ['Gm']}\n",
      "{'tweet_id': '1618397050256904193', 'hashtags': ['AVtweeps']}\n",
      "{'tweet_id': '1618396952034693121', 'hashtags': ['TransGirl', 'TsGirl', 'Trans']}\n",
      "{'tweet_id': '1618396803979788289', 'hashtags': ['IWinTech', 'WomenInTech', 'WomenInspringWomen']}\n",
      "--------------\n",
      "{'tweet_id': '1618396803979788289', 'urls': ['https://t.co/u4dNamohFg', 'https://t.co/n3FZa3UrjS', 'https://t.co/Vx1u1HWryP']}\n",
      "{'tweet_id': '1618395216091951104', 'urls': ['https://t.co/HkyhbGBfNH', 'https://t.co/B3zelTTchl', 'https://t.co/siff9VQxin']}\n",
      "{'tweet_id': '1618395108868608001', 'urls': ['https://t.co/cKAzCbhK5C']}\n",
      "{'tweet_id': '1618393537044942848', 'urls': ['https://t.co/aJvRhVApmH', 'https://t.co/aJvRhVApmH', 'https://t.co/aJvRhVApmH']}\n",
      "{'tweet_id': '1618393472859508739', 'urls': ['https://t.co/aJvRhVApmH', 'https://t.co/aJvRhVApmH', 'https://t.co/aJvRhVApmH']}\n",
      "--------------\n",
      "{'id': '860025761167572993', 'hashtags': ['Leetcode', '100DaysOfCodeChallenge', 'Backtracking', 'WomeninTech', 'Java', 'SoftwareDeveloper', 'codinglife', 'WomenWhoCode', 'inheritance', 'LookingforJob', 'coding', 'Django', 'Python', 'womenintech', '100DaysOfCode']}\n",
      "{'id': '1389705763208237056', 'hashtags': ['Gm']}\n",
      "{'id': '24725968', 'hashtags': ['MondayMotivation', 'ProAV', 'AVTweeps', 'AVIXAWomen', 'BeFierce', 'WomeninIT', 'WAVIT', 'DEI', 'WomenWhoCode', 'TheFutureisFemale', 'BeBold', 'avtweeps', 'WoDS', 'AVtweeps', 'proAV', 'WomeninTech', 'RipplesMakeWaves', 'WomeninAV', 'DigitalSignage', 'WomeninSTEM', 'AVPlusPod']}\n",
      "{'id': '921741324579155968', 'hashtags': ['TsGirl', 'TransGirl', 'Trans']}\n",
      "{'id': '820359116212142081', 'hashtags': ['HeritageFoundationOfPakistan', 'WomenInTech', 'IWinTech', 'STEM', 'WomenInspringWomen', 'WomenInSTEM', 'WomeninEngineering']}\n",
      "--------------\n",
      "{'id': '820359116212142081', 'urls': ['https://t.co/h6OH2BAtvo', 'https://t.co/u4dNamohFg', 'https://t.co/n3FZa3UrjS', 'https://t.co/yHTOWzEkWU', 'https://t.co/rKZjaVZO2g', 'https://t.co/FPyJQF1v78', 'https://t.co/LLYjgvz4LU', 'https://t.co/Vx1u1HWryP', 'https://t.co/8UNsZxfr27']}\n",
      "{'id': '2305580258', 'urls': ['https://t.co/5gDVFjUyqn', 'https://t.co/x9viNy3ZEi', 'https://t.co/S3bcGUiNc3', 'https://t.co/B3zelTTchl', 'https://t.co/ElnK4JE7OV', 'https://t.co/USZiKgmBl0', 'https://t.co/HkyhbGBfNH', 'https://t.co/3qiMagXsw1', 'https://t.co/siff9VQxin', 'https://t.co/G5UMoeuyaK']}\n",
      "{'id': '182004865', 'urls': ['https://t.co/oZewMwrGKN', 'https://t.co/s54OWUEtpe', 'https://t.co/w64H55TqHj', 'https://t.co/UHOOlO6Qdm', 'https://t.co/cKAzCbhK5C', 'https://t.co/hEOt7qitkf']}\n",
      "{'id': '545453835', 'urls': ['https://t.co/aJvRhVApmH']}\n",
      "{'id': '890402868288737280', 'urls': ['https://t.co/aJvRhVApmH']}\n",
      "--------------\n",
      "{'id': '1389705763208237056', 'mentions': ['1495625777605488642', '913423000820682762', '1549195125204480000', '29335769']}\n",
      "{'id': '1613967463', 'mentions': ['959355565', '23483274', '430995737']}\n",
      "{'id': '1267581258424557568', 'mentions': ['3056658161', '29335769']}\n",
      "{'id': '24725968', 'mentions': ['204837082', '18167325', '171675792', '15074647', '624844467', '1458538450571907073', '811296326197579782', '1562815722455109632', '18138503', '777967633', '2636082375', '1446159865328685059', '28601072', '17158776']}\n",
      "{'id': '921741324579155968', 'mentions': ['1355568913573179394']}\n"
     ]
    }
   ],
   "source": [
    "client,database,collection = set_mongo_connection(\n",
    "    \"mongodb://localhost:27017/\",\n",
    "    \"local\",\n",
    "    \"test\"\n",
    ")\n",
    "\n",
    "#nodes\n",
    "users = get_node_users(collection)\n",
    "tweets = get_node_tweets(collection)\n",
    "hashtags = get_node_hashtags(collection)\n",
    "urls = get_node_urls(collection)\n",
    "\n",
    "#relationships\n",
    "tweeted = get_relationship_tweeted(collection)\n",
    "has_hashtag = get_relationship_has_hashtag(collection)\n",
    "has_url = get_relationship_has_url(collection)\n",
    "used_hashtag = get_relationship_used_hashtag(collection)\n",
    "used_urls = get_relationship_used_urls(collection)\n",
    "mentioned = get_relationship_mentioned(collection)\n",
    "\n",
    "\n",
    "\n",
    "#print heads of data\n",
    "print(\"------NODES--------\")\n",
    "for user in users[:5]:\n",
    "    print(user)\n",
    "print(\"--------------\")\n",
    "for tweet in tweets[:5]:\n",
    "    print(tweet)\n",
    "print(\"--------------\")\n",
    "for hashtag in hashtags[:5]:\n",
    "    print(hashtag)\n",
    "print(\"--------------\")\n",
    "for url in urls[:5]:\n",
    "    print(url)\n",
    "print(\"------RELATIONS--------\")\n",
    "for user_tweet_relation in tweeted[:5]:\n",
    "    print(user_tweet_relation)\n",
    "print(\"--------------\")\n",
    "for tweet_hashtag_relation in has_hashtag[:5]:\n",
    "    print(tweet_hashtag_relation)\n",
    "print(\"--------------\")\n",
    "for tweet_url_relation in has_url[:5]:\n",
    "    print(tweet_url_relation)\n",
    "print(\"--------------\")\n",
    "for user_hashtag_relation in used_hashtag[:5]:\n",
    "    print(user_hashtag_relation)\n",
    "print(\"--------------\")\n",
    "for user_url_relation in used_urls[:5]:\n",
    "    print(user_url_relation)\n",
    "print(\"--------------\")\n",
    "for user_mention_relation in mentioned[:5]:\n",
    "    print(user_mention_relation)\n"
   ],
   "metadata": {
    "collapsed": false
   }
  }
 ],
 "metadata": {
  "kernelspec": {
   "display_name": "Python 3",
   "language": "python",
   "name": "python3"
  },
  "language_info": {
   "codemirror_mode": {
    "name": "ipython",
    "version": 2
   },
   "file_extension": ".py",
   "mimetype": "text/x-python",
   "name": "python",
   "nbconvert_exporter": "python",
   "pygments_lexer": "ipython2",
   "version": "2.7.6"
  }
 },
 "nbformat": 4,
 "nbformat_minor": 0
}
