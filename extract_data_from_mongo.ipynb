{
 "cells": [
  {
   "cell_type": "markdown",
   "source": [
    "## Extract data from Mongo DB with pymongo"
   ],
   "metadata": {
    "collapsed": false
   }
  },
  {
   "cell_type": "markdown",
   "source": [
    "set_mongo_connection(), sets up a connection to a MongoDB database using a connection string, database name, and collection name. It returns the client, db, and col objects which can be used to perform further operations on the database.\n",
    "\n",
    "get_node_users(), retrieves information about Twitter users from the specified collection. It searches for documents that contain a key called \"includes.users\" and extracts information such as user ID, number of followers, and username. The function returns a list of unique user objects sorted by the date that their information was last updated.\n",
    "\n",
    "get_node_tweets(), retrieves information about Twitter tweets from the specified collection. It searches for documents that contain a key called \"includes.tweets\" and extracts information such as tweet ID, author ID, creation time, and number of retweets. It also checks for any referenced tweets and adds them to a list if present. The function returns a list of tweet objects.\n",
    "\n",
    "get_node_hashtags(), retrieves a list of unique hashtags from the first tweet in each document in the specified collection. It uses the collection.find() method to search for documents that contain a key called \"includes.tweets.0.entities.hashtags\", which indicates that the first tweet in the document has at least one hashtag. It then loops through each matching document, extracts the hashtag tags from the first tweet, and adds them to a set to remove duplicates. Finally, the function converts the set to a list and returns it.\n",
    "\n",
    "get_relationship_has_hashtag(), retrieves information about the relationship between tweets and hashtags in the specified collection. It searches for documents that contain a key called \"includes.tweets.0.entities.hashtags\" and extracts the tweet ID and associated hashtags. The function returns a list of tweet objects with their associated hashtags."
   ],
   "metadata": {
    "collapsed": false
   }
  },
  {
   "cell_type": "code",
   "execution_count": 3,
   "outputs": [],
   "source": [],
   "metadata": {
    "collapsed": false
   }
  },
  {
   "cell_type": "code",
   "execution_count": 4,
   "outputs": [],
   "source": [
    "from python_utils.mongo_python import set_mongo_connection, get_node_users , get_node_tweets , get_node_hashtags , get_relationship_has_hashtag"
   ],
   "metadata": {
    "collapsed": false
   }
  },
  {
   "cell_type": "markdown",
   "source": [
    "Examples :"
   ],
   "metadata": {
    "collapsed": false
   }
  },
  {
   "cell_type": "code",
   "execution_count": 5,
   "outputs": [
    {
     "name": "stdout",
     "output_type": "stream",
     "text": [
      "{'id': '860025761167572993', 'followers': 35, 'username': 'Sukhmanjeetkau2', 'info_last_updated': datetime.datetime(2023, 1, 25, 23, 59, 30)}\n",
      "{'id': '1389705763208237056', 'followers': 12552, 'username': 'LauraDoodlesToo', 'info_last_updated': datetime.datetime(2023, 1, 25, 23, 59, 16)}\n",
      "{'id': '1495625777605488642', 'followers': 7701, 'username': 'AnastasiaNFTart', 'info_last_updated': datetime.datetime(2023, 1, 25, 23, 59, 16)}\n",
      "{'id': '1613967463', 'followers': 439, 'username': 'esquivel_gifted', 'info_last_updated': datetime.datetime(2023, 1, 25, 23, 58)}\n",
      "{'id': '959355565', 'followers': 342, 'username': 'DevonGarritt', 'info_last_updated': datetime.datetime(2023, 1, 25, 23, 58)}\n",
      "--------------\n",
      "{'tweet_id': '1618398184312639491', 'author_id': '860025761167572993', 'created_at': '2023-01-25T23:59:30.000Z', 'retweet_count': 0, 'referenced_tweets': None}\n",
      "{'tweet_id': '1618398126364299264', 'author_id': '1389705763208237056', 'created_at': '2023-01-25T23:59:16.000Z', 'retweet_count': 15, 'referenced_tweets': [{'type': 'retweeted', 'tweet_id': '1618170911366184962'}]}\n",
      "{'tweet_id': '1618397809140715524', 'author_id': '1613967463', 'created_at': '2023-01-25T23:58:00.000Z', 'retweet_count': 0, 'referenced_tweets': [{'type': 'replied_to', 'tweet_id': '1618315710299803649'}]}\n",
      "{'tweet_id': '1618397053452963840', 'author_id': '1267581258424557568', 'created_at': '2023-01-25T23:55:00.000Z', 'retweet_count': 12, 'referenced_tweets': [{'type': 'retweeted', 'tweet_id': '1618354372135747586'}]}\n",
      "{'tweet_id': '1618397050256904193', 'author_id': '24725968', 'created_at': '2023-01-25T23:54:59.000Z', 'retweet_count': 1, 'referenced_tweets': [{'type': 'retweeted', 'tweet_id': '1618315393457610753'}]}\n",
      "--------------\n",
      "relationshipmemes\n",
      "hireme\n",
      "Equity\n",
      "UN\n",
      "MenstrualLeave\n",
      "--------------\n",
      "{'tweet_id': '1618398184312639491', 'hashtags': ['100DaysOfCodeChallenge', '100DaysOfCode', 'SoftwareDeveloper', 'Java', 'WomenWhoCode', 'womenintech', 'coding', 'codinglife', 'Leetcode', 'Django', 'Python']}\n",
      "{'tweet_id': '1618398126364299264', 'hashtags': ['Gm']}\n",
      "{'tweet_id': '1618397050256904193', 'hashtags': ['AVtweeps']}\n",
      "{'tweet_id': '1618396952034693121', 'hashtags': ['TransGirl', 'TsGirl', 'Trans']}\n",
      "{'tweet_id': '1618396803979788289', 'hashtags': ['IWinTech', 'WomenInTech', 'WomenInspringWomen']}\n"
     ]
    }
   ],
   "source": [
    "client,database,collection = set_mongo_connection(\n",
    "    \"mongodb://localhost:27017/\",\n",
    "    \"local\",\n",
    "    \"test\"\n",
    ")\n",
    "\n",
    "#nodes\n",
    "users = get_node_users(collection)\n",
    "tweets = get_node_tweets(collection)\n",
    "hashtags = get_node_hashtags(collection)\n",
    "\n",
    "#relationships\n",
    "has_hashtag = get_relationship_has_hashtag(collection)\n",
    "\n",
    "\n",
    "#print heads of data\n",
    "for user in users[:5]:\n",
    "    print(user)\n",
    "print(\"--------------\")\n",
    "for tweet in tweets[:5]:\n",
    "    print(tweet)\n",
    "print(\"--------------\")\n",
    "for hashtag in hashtags[:5]:\n",
    "    print(hashtag)\n",
    "print(\"--------------\")\n",
    "for tweet_hashtag_relation in has_hashtag[:5]:\n",
    "    print(tweet_hashtag_relation)"
   ],
   "metadata": {
    "collapsed": false
   }
  },
  {
   "cell_type": "code",
   "execution_count": 5,
   "outputs": [],
   "source": [],
   "metadata": {
    "collapsed": false
   }
  }
 ],
 "metadata": {
  "kernelspec": {
   "display_name": "Python 3",
   "language": "python",
   "name": "python3"
  },
  "language_info": {
   "codemirror_mode": {
    "name": "ipython",
    "version": 2
   },
   "file_extension": ".py",
   "mimetype": "text/x-python",
   "name": "python",
   "nbconvert_exporter": "python",
   "pygments_lexer": "ipython2",
   "version": "2.7.6"
  }
 },
 "nbformat": 4,
 "nbformat_minor": 0
}
