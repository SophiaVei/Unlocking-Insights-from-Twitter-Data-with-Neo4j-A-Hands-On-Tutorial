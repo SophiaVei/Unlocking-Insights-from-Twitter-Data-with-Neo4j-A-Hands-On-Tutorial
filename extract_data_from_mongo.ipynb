{
 "cells": [
  {
   "cell_type": "markdown",
   "source": [
    "# Extract data from Mongo DB with pymongo"
   ],
   "metadata": {
    "collapsed": false
   }
  },
  {
   "cell_type": "markdown",
   "source": [
    "### Nodes\n",
    "\n",
    "set_mongo_connection(), sets up a connection to a MongoDB database using a connection string, database name, and collection name. It returns the client, db, and col objects which can be used to perform further operations on the database.\n",
    "\n",
    "get_node_users() retrieves information about Twitter users from a MongoDB database, either from tweets that include user mentions or from tweets that include certain keywords or hashtags. It creates a dictionary representing each user found, including the user's ID, username, number of followers (if available), and the date the tweet was created. It then combines the dictionaries into a single list, removes any duplicate users based on their ID, and returns the resulting list sorted by the date the tweet was created.\n",
    "\n",
    "\n",
    "get_node_tweets(), retrieves information about Twitter tweets from the specified collection. It searches for documents that contain a key called \"includes.tweets\" and extracts information such as tweet ID, author ID, creation time, and number of retweets. It also checks for any referenced tweets and adds them to a list if present. The function returns a list of tweet objects.\n",
    "\n",
    "get_node_hashtags(), retrieves a list of unique hashtags from the first tweet in each document in the specified collection. It uses the collection.find() method to search for documents that contain a key called \"includes.tweets.0.entities.hashtags\", which indicates that the first tweet in the document has at least one hashtag. It then loops through each matching document, extracts the hashtag tags from the first tweet, and adds them to a set to remove duplicates. Finally, the function converts the set to a list and returns it.\n",
    "\n",
    "\n",
    "get_node_urls() retrieves a list of unique urls from the first tweet in each document in the specified collection. It uses the collection.find() method to search for documents that contain a key called \"includes.tweets.0.entities.urls\", which indicates that the first tweet in the document has at least one url. It then loops through each matching document, extracts the urls from the first tweet, and adds them to a set to remove duplicates. Finally, the function converts the set to a list and returns it.\n",
    "\n",
    "\n",
    "\n",
    "### Relations\n",
    "\n",
    "get_relationship_tweeted() takes a MongoDB collection as input and returns a list of dictionaries, where each dictionary represents a user who has tweeted at least once, and the values in the dictionary include the user ID, a list of tweet IDs the user has tweeted, and a list of corresponding tweet creation dates. The function first queries the MongoDB collection for documents where the first tweet exists, and then iterates through these documents. For each document, it extracts the user ID, tweet ID, and creation date for the first tweet in the document. If the user ID has not yet been encountered, a new dictionary is created for that user with the user ID as the 'id' value, empty lists for tweet IDs and creation dates. Otherwise, the tweet ID and creation date are appended to the corresponding lists for that user. Finally, the function returns a list of the user dictionaries.\n",
    "\n",
    "get_relationship_has_hashtag(), retrieves information about the relationship between tweets and hashtags in the specified collection. It searches for documents that contain a key called \"includes.tweets.0.entities.hashtags\" and extracts the tweet ID and associated hashtags. The function returns a list of tweet objects with their associated hashtags.\n",
    "\n",
    "get_relationship_has_url(), retrieves information about the relationship between tweets and urls in the specified collection. It searches for documents that contain a key called \"includes.tweets.0.entities.urls\" and extracts the tweet ID and associated urls. The function returns a list of tweet objects with their associated urls.\n",
    "\n",
    "get_relationship_used_hashtag() retrieves all tweets that contains hashtags. For each tweet, the function extracts any new hashtag found in the tweet to the user's existing list of hashtags, and removes any duplicates. Once all documents have been processed, the function returns a list of dictionaries, where each dictionary represents a user and the hashtags they have used in their tweets.\n",
    "\n",
    "get_relationship_used_urls() retrieves all tweets that contains urls. For each tweet, the function extracts any new url found in the tweet to the user's existing list of urls, and removes any duplicates. Once all documents have been processed, the function returns a list of dictionaries, where each dictionary represents a user and the urls they have used in their tweets."
   ],
   "metadata": {
    "collapsed": false
   }
  },
  {
   "cell_type": "code",
   "execution_count": 1,
   "outputs": [],
   "source": [
    "from python_utils.mongo_python import set_mongo_connection, get_node_users , get_node_tweets , get_node_hashtags , get_node_urls, get_relationship_tweeted ,get_relationship_has_hashtag, get_relationship_has_url, get_relationship_used_hashtag, get_relationship_used_urls"
   ],
   "metadata": {
    "collapsed": false
   }
  },
  {
   "cell_type": "markdown",
   "source": [
    "Examples :"
   ],
   "metadata": {
    "collapsed": false
   }
  },
  {
   "cell_type": "code",
   "execution_count": 2,
   "outputs": [
    {
     "name": "stdout",
     "output_type": "stream",
     "text": [
      "------NODES--------\n",
      "{'id': '860025761167572993', 'followers': 35, 'username': 'Sukhmanjeetkau2', 'info_last_updated': datetime.datetime(2023, 1, 25, 23, 59, 30)}\n",
      "{'id': '1389705763208237056', 'followers': 12552, 'username': 'LauraDoodlesToo', 'info_last_updated': datetime.datetime(2023, 1, 25, 23, 59, 16)}\n",
      "{'id': '1495625777605488642', 'followers': 7701, 'username': 'AnastasiaNFTart', 'info_last_updated': datetime.datetime(2023, 1, 25, 23, 59, 16)}\n",
      "{'id': '1613967463', 'followers': 439, 'username': 'esquivel_gifted', 'info_last_updated': datetime.datetime(2023, 1, 25, 23, 58)}\n",
      "{'id': '959355565', 'followers': 342, 'username': 'DevonGarritt', 'info_last_updated': datetime.datetime(2023, 1, 25, 23, 58)}\n",
      "--------------\n",
      "{'tweet_id': '1618398184312639491', 'author_id': '860025761167572993', 'created_at': '2023-01-25T23:59:30.000Z', 'retweet_count': 0, 'referenced_tweets': None}\n",
      "{'tweet_id': '1618398126364299264', 'author_id': '1389705763208237056', 'created_at': '2023-01-25T23:59:16.000Z', 'retweet_count': 15, 'referenced_tweets': [{'type': 'retweeted', 'tweet_id': '1618170911366184962'}]}\n",
      "{'tweet_id': '1618397809140715524', 'author_id': '1613967463', 'created_at': '2023-01-25T23:58:00.000Z', 'retweet_count': 0, 'referenced_tweets': [{'type': 'replied_to', 'tweet_id': '1618315710299803649'}]}\n",
      "{'tweet_id': '1618397053452963840', 'author_id': '1267581258424557568', 'created_at': '2023-01-25T23:55:00.000Z', 'retweet_count': 12, 'referenced_tweets': [{'type': 'retweeted', 'tweet_id': '1618354372135747586'}]}\n",
      "{'tweet_id': '1618397050256904193', 'author_id': '24725968', 'created_at': '2023-01-25T23:54:59.000Z', 'retweet_count': 1, 'referenced_tweets': [{'type': 'retweeted', 'tweet_id': '1618315393457610753'}]}\n",
      "--------------\n",
      "EdDjourney\n",
      "TSL23\n",
      "TampaBay\n",
      "CNFTs\n",
      "IIoT\n",
      "--------------\n",
      "https://t.co/XsRbUHTJ3X\n",
      "https://t.co/7XFuq4eETH\n",
      "https://t.co/MQmJn0i2XO\n",
      "https://t.co/u92xJXSI5D\n",
      "https://t.co/jq5GJKdalN\n",
      "------RELATIONS--------\n",
      "{'id': '860025761167572993', 'tweet_ids': ['1618398184312639491', '1616586245395648512'], 'created_at_converted': [datetime.datetime(2023, 1, 25, 23, 59, 30), datetime.datetime(2023, 1, 20, 23, 59, 30)]}\n",
      "{'id': '1389705763208237056', 'tweet_ids': ['1618398126364299264', '1617651217836167169'], 'created_at_converted': [datetime.datetime(2023, 1, 25, 23, 59, 16), datetime.datetime(2023, 1, 23, 22, 31, 19)]}\n",
      "{'id': '1613967463', 'tweet_ids': ['1618397809140715524'], 'created_at_converted': [datetime.datetime(2023, 1, 25, 23, 58)]}\n",
      "{'id': '1267581258424557568', 'tweet_ids': ['1618397053452963840'], 'created_at_converted': [datetime.datetime(2023, 1, 25, 23, 55)]}\n",
      "{'id': '24725968', 'tweet_ids': ['1618397050256904193', '1618263286256144385', '1617715226211921925', '1617545235994927104', '1616547691047043072', '1616122816746725376', '1616097000478449664', '1616096893960081414', '1615756643668746240', '1615730481324064769', '1615509814880178176', '1615451679385608211', '1615439765817462784', '1615439720313413650', '1615439564906061824', '1615431408616366080', '1615426284917751808', '1615371173914710017', '1615026052048486400'], 'created_at_converted': [datetime.datetime(2023, 1, 25, 23, 54, 59), datetime.datetime(2023, 1, 25, 15, 3, 27), datetime.datetime(2023, 1, 24, 2, 45, 40), datetime.datetime(2023, 1, 23, 15, 30, 11), datetime.datetime(2023, 1, 20, 21, 26, 18), datetime.datetime(2023, 1, 19, 17, 18), datetime.datetime(2023, 1, 19, 15, 35, 25), datetime.datetime(2023, 1, 19, 15, 34, 59), datetime.datetime(2023, 1, 18, 17, 2, 57), datetime.datetime(2023, 1, 18, 15, 19), datetime.datetime(2023, 1, 18, 0, 42, 9), datetime.datetime(2023, 1, 17, 20, 51, 8), datetime.datetime(2023, 1, 17, 20, 3, 48), datetime.datetime(2023, 1, 17, 20, 3, 37), datetime.datetime(2023, 1, 17, 20, 3), datetime.datetime(2023, 1, 17, 19, 30, 35), datetime.datetime(2023, 1, 17, 19, 10, 14), datetime.datetime(2023, 1, 17, 15, 31, 14), datetime.datetime(2023, 1, 16, 16, 39, 51)]}\n",
      "--------------\n",
      "{'tweet_id': '1618398184312639491', 'hashtags': ['100DaysOfCodeChallenge', '100DaysOfCode', 'SoftwareDeveloper', 'Java', 'WomenWhoCode', 'womenintech', 'coding', 'codinglife', 'Leetcode', 'Django', 'Python']}\n",
      "{'tweet_id': '1618398126364299264', 'hashtags': ['Gm']}\n",
      "{'tweet_id': '1618397050256904193', 'hashtags': ['AVtweeps']}\n",
      "{'tweet_id': '1618396952034693121', 'hashtags': ['TransGirl', 'TsGirl', 'Trans']}\n",
      "{'tweet_id': '1618396803979788289', 'hashtags': ['IWinTech', 'WomenInTech', 'WomenInspringWomen']}\n",
      "--------------\n",
      "{'tweet_id': '1618396803979788289', 'urls': ['https://t.co/u4dNamohFg', 'https://t.co/n3FZa3UrjS', 'https://t.co/Vx1u1HWryP']}\n",
      "{'tweet_id': '1618395216091951104', 'urls': ['https://t.co/HkyhbGBfNH', 'https://t.co/B3zelTTchl', 'https://t.co/siff9VQxin']}\n",
      "{'tweet_id': '1618395108868608001', 'urls': ['https://t.co/cKAzCbhK5C']}\n",
      "{'tweet_id': '1618393537044942848', 'urls': ['https://t.co/aJvRhVApmH', 'https://t.co/aJvRhVApmH', 'https://t.co/aJvRhVApmH']}\n",
      "{'tweet_id': '1618393472859508739', 'urls': ['https://t.co/aJvRhVApmH', 'https://t.co/aJvRhVApmH', 'https://t.co/aJvRhVApmH']}\n",
      "--------------\n",
      "{'id': '860025761167572993', 'hashtags': ['inheritance', 'Backtracking', 'Python', 'Java', 'SoftwareDeveloper', 'WomenWhoCode', '100DaysOfCode', 'coding', 'WomeninTech', '100DaysOfCodeChallenge', 'womenintech', 'Leetcode', 'LookingforJob', 'codinglife', 'Django']}\n",
      "{'id': '1389705763208237056', 'hashtags': ['Gm']}\n",
      "{'id': '24725968', 'hashtags': ['ProAV', 'DigitalSignage', 'MondayMotivation', 'DEI', 'WomeninSTEM', 'WoDS', 'WomenWhoCode', 'WomeninIT', 'TheFutureisFemale', 'AVtweeps', 'BeBold', 'BeFierce', 'AVPlusPod', 'RipplesMakeWaves', 'AVTweeps', 'AVIXAWomen', 'proAV', 'avtweeps', 'WAVIT', 'WomeninAV', 'WomeninTech']}\n",
      "{'id': '921741324579155968', 'hashtags': ['TsGirl', 'TransGirl', 'Trans']}\n",
      "{'id': '820359116212142081', 'hashtags': ['WomenInspringWomen', 'STEM', 'IWinTech', 'HeritageFoundationOfPakistan', 'WomeninEngineering', 'WomenInSTEM', 'WomenInTech']}\n",
      "--------------\n",
      "{'id': '820359116212142081', 'urls': ['https://t.co/yHTOWzEkWU', 'https://t.co/h6OH2BAtvo', 'https://t.co/rKZjaVZO2g', 'https://t.co/n3FZa3UrjS', 'https://t.co/8UNsZxfr27', 'https://t.co/u4dNamohFg', 'https://t.co/FPyJQF1v78', 'https://t.co/LLYjgvz4LU', 'https://t.co/Vx1u1HWryP']}\n",
      "{'id': '2305580258', 'urls': ['https://t.co/x9viNy3ZEi', 'https://t.co/3qiMagXsw1', 'https://t.co/siff9VQxin', 'https://t.co/S3bcGUiNc3', 'https://t.co/HkyhbGBfNH', 'https://t.co/ElnK4JE7OV', 'https://t.co/B3zelTTchl', 'https://t.co/USZiKgmBl0', 'https://t.co/5gDVFjUyqn', 'https://t.co/G5UMoeuyaK']}\n",
      "{'id': '182004865', 'urls': ['https://t.co/w64H55TqHj', 'https://t.co/s54OWUEtpe', 'https://t.co/cKAzCbhK5C', 'https://t.co/hEOt7qitkf', 'https://t.co/UHOOlO6Qdm', 'https://t.co/oZewMwrGKN']}\n",
      "{'id': '545453835', 'urls': ['https://t.co/aJvRhVApmH']}\n",
      "{'id': '890402868288737280', 'urls': ['https://t.co/aJvRhVApmH']}\n"
     ]
    }
   ],
   "source": [
    "client,database,collection = set_mongo_connection(\n",
    "    \"mongodb://localhost:27017/\",\n",
    "    \"local\",\n",
    "    \"test\"\n",
    ")\n",
    "\n",
    "#nodes\n",
    "users = get_node_users(collection)\n",
    "tweets = get_node_tweets(collection)\n",
    "hashtags = get_node_hashtags(collection)\n",
    "urls = get_node_urls(collection)\n",
    "\n",
    "#relationships\n",
    "tweeted = get_relationship_tweeted(collection)\n",
    "has_hashtag = get_relationship_has_hashtag(collection)\n",
    "has_url = get_relationship_has_url(collection)\n",
    "used_hashtag = get_relationship_used_hashtag(collection)\n",
    "used_urls = get_relationship_used_urls(collection)\n",
    "\n",
    "\n",
    "\n",
    "#print heads of data\n",
    "print(\"------NODES--------\")\n",
    "for user in users[:5]:\n",
    "    print(user)\n",
    "print(\"--------------\")\n",
    "for tweet in tweets[:5]:\n",
    "    print(tweet)\n",
    "print(\"--------------\")\n",
    "for hashtag in hashtags[:5]:\n",
    "    print(hashtag)\n",
    "print(\"--------------\")\n",
    "for url in urls[:5]:\n",
    "    print(url)\n",
    "print(\"------RELATIONS--------\")\n",
    "for user_tweet_relation in tweeted[:5]:\n",
    "    print(user_tweet_relation)\n",
    "print(\"--------------\")\n",
    "for tweet_hashtag_relation in has_hashtag[:5]:\n",
    "    print(tweet_hashtag_relation)\n",
    "print(\"--------------\")\n",
    "for tweet_url_relation in has_url[:5]:\n",
    "    print(tweet_url_relation)\n",
    "print(\"--------------\")\n",
    "for user_hashtag_relation in used_hashtag[:5]:\n",
    "    print(user_hashtag_relation)\n",
    "print(\"--------------\")\n",
    "for user_url_relation in used_urls[:5]:\n",
    "    print(user_url_relation)\n"
   ],
   "metadata": {
    "collapsed": false
   }
  }
 ],
 "metadata": {
  "kernelspec": {
   "display_name": "Python 3",
   "language": "python",
   "name": "python3"
  },
  "language_info": {
   "codemirror_mode": {
    "name": "ipython",
    "version": 2
   },
   "file_extension": ".py",
   "mimetype": "text/x-python",
   "name": "python",
   "nbconvert_exporter": "python",
   "pygments_lexer": "ipython2",
   "version": "2.7.6"
  }
 },
 "nbformat": 4,
 "nbformat_minor": 0
}
