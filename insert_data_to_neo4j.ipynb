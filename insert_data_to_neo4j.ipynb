{
 "cells": [
  {
   "cell_type": "markdown",
   "source": [
    "## Insert data to Neo4j with py2mongo"
   ],
   "metadata": {
    "collapsed": false
   }
  },
  {
   "cell_type": "markdown",
   "source": [
    "We have nodes with four different labels: Tweets, Hashtags, URL and Users. After creating the corresponding lists, as described previously (in the extract_data_from_mongo file), we create the nodes along with their labels and attributes in Neo4j. Afterwards, we create the necessary relationships between nodes. All the relationships we need are described previously in the corresponding file."
   ],
   "metadata": {
    "collapsed": false
   }
  },
  {
   "cell_type": "code",
   "execution_count": null,
   "outputs": [],
   "source": [
    "from python_utils.mongo_python import set_mongo_connection, get_node_users , get_node_tweets , get_node_hashtags , get_node_urls, get_relationship_tweeted , get_relationship_retweeted, get_relationship_quoted, get_relationship_replied_to ,get_relationship_has_hashtag, get_relationship_has_url, get_relationship_used_hashtag, get_relationship_used_urls, get_relationship_mentioned\n",
    "\n",
    "from python_utils.neo4j_python import *\n",
    "\n",
    "import py2neo\n",
    "\n",
    "client,database,collection = set_mongo_connection(\n",
    "    \"mongodb://localhost:27017/\",\n",
    "    \"local\",\n",
    "    \"test\"\n",
    ")\n",
    "\n"
   ],
   "metadata": {
    "collapsed": false
   }
  },
  {
   "cell_type": "code",
   "execution_count": null,
   "outputs": [],
   "source": [
    "#list of dicts for tweets\n",
    "tweet_list  = get_node_tweets(collection)\n",
    "#create Nodes of tweets in Neo4j\n",
    "input_tweets(tweet_list)\n",
    "\n",
    "#list of hashtags\n",
    "hashtag_list  = get_node_hashtags(collection)\n",
    "#create Nodes of hashtags in Neo4j\n",
    "input_hashtags(hashtag_list)\n",
    "\n",
    "#list of urls\n",
    "url_list  = get_node_urls(collection)\n",
    "#create Nodes of urls in Neo4j\n",
    "input_urls(url_list)\n",
    "\n",
    "\n",
    "#list of dicts for users\n",
    "user_list  = get_node_users(collection)\n",
    "#create Nodes of users in Neo4j\n",
    "input_users(user_list)\n",
    "\n",
    "\n",
    "#list of dicts of tweet_ids and the corresponding hashtags\n",
    "tweet_hashtag_rel = get_relationship_has_hashtag(collection)\n",
    "#create Relationship HAS_HASHTAG in Neo4j\n",
    "input_tweet_tag_rel(tweet_hashtag_rel)\n",
    "\n",
    "#list of dicts of tweet_ids and the corresponding urls\n",
    "tweet_url_rel = get_relationship_has_url(collection)\n",
    "#create Relationship HAS_URL in Neo4j\n",
    "input_tweet_url_rel(tweet_url_rel)\n",
    "\n",
    "#list of dicts of user_ids and the corresponding hashtags\n",
    "user_hashtag_rel = get_relationship_used_hashtag(collection)\n",
    "#create Relationship USED_HASHTAG in Neo4j\n",
    "input_user_tag_rel(user_hashtag_rel)\n",
    "\n",
    "\n",
    "#list of dicts of user_ids and the corresponding tweet ids\n",
    "user_tweet_rel = get_relationship_tweeted(collection)\n",
    "#create Relationship TWEETED in Neo4j\n",
    "input_user_tweet_rel(user_tweet_rel)\n",
    "\n",
    "#list of dicts of user_ids and the corresponding retweet ids\n",
    "user_retweet_rel = get_relationship_retweeted(collection)\n",
    "#create Relationship RETWEETED in Neo4j\n",
    "input_user_retweet_rel(user_retweet_rel)\n",
    "\n",
    "#list of dicts of user_ids and the corresponding quoted tweeets ids\n",
    "user_quote_rel = get_relationship_quoted(collection)\n",
    "#create Relationship QUOTED in Neo4j\n",
    "input_user_quoted_rel(user_quote_rel)\n",
    "\n",
    "#list of dicts of user_ids and the corresponding replied_to ids\n",
    "user_replied_to_rel = get_relationship_replied_to(collection)\n",
    "#create Relationship REPLIED TO in Neo4j\n",
    "input_user_replied_to_rel(user_replied_to_rel)\n",
    "\n",
    "#list of dicts of user_ids and the corresponding mentioned user ids\n",
    "user_user_rel = get_relationship_mentioned(collection)\n",
    "#create Relationship MENTIONED in Neo4j\n",
    "input_user_user_rel(user_user_rel)\n"
   ],
   "metadata": {
    "collapsed": false
   }
  }
 ],
 "metadata": {
  "kernelspec": {
   "display_name": "Python 3",
   "language": "python",
   "name": "python3"
  },
  "language_info": {
   "codemirror_mode": {
    "name": "ipython",
    "version": 2
   },
   "file_extension": ".py",
   "mimetype": "text/x-python",
   "name": "python",
   "nbconvert_exporter": "python",
   "pygments_lexer": "ipython2",
   "version": "2.7.6"
  }
 },
 "nbformat": 4,
 "nbformat_minor": 0
}
