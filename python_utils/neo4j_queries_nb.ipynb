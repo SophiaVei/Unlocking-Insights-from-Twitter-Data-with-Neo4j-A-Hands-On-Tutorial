{
 "cells": [
  {
   "cell_type": "code",
   "execution_count": 1,
   "metadata": {},
   "outputs": [],
   "source": [
    "import py2neo\n",
    "import pandas as pd\n",
    "import numpy as np\n",
    "\n",
    "port = input(\"Enter Neo4j DB Bolt port: \")\n",
    "user = input(\"Enter Neo4j DB Username: \")\n",
    "pswd = input(\"Enter Neo4j DB Password: \")\n",
    "# graph = Graph(\"bolt://localhost:7687\", auth=(\"neo4j\", \"neo4j_auth\")\n",
    "\n",
    "graph = py2neo.Graph(port, auth=(user, pswd))"
   ]
  },
  {
   "attachments": {},
   "cell_type": "markdown",
   "metadata": {},
   "source": [
    "Get the total number of retweets"
   ]
  },
  {
   "cell_type": "code",
   "execution_count": 2,
   "metadata": {},
   "outputs": [
    {
     "name": "stdout",
     "output_type": "stream",
     "text": [
      "The total number of retweets is: 24252\n"
     ]
    }
   ],
   "source": [
    "query1 = \"MATCH p=()-[r:RETWEETED]->() RETURN COUNT(*)\"\n",
    "retweets = graph.run(query1).evaluate()\n",
    "print(\"The total number of retweets is:\", retweets)"
   ]
  },
  {
   "attachments": {},
   "cell_type": "markdown",
   "metadata": {},
   "source": [
    "Get the 20 most popular hashtags (case insensitive) in descending order\n"
   ]
  },
  {
   "cell_type": "code",
   "execution_count": 3,
   "metadata": {},
   "outputs": [
    {
     "name": "stdout",
     "output_type": "stream",
     "text": [
      "The 20 most popular hashtags in descending order are:\n",
      "      popular_hashtags  frequency\n",
      "0          womenintech       4506\n",
      "1     womenempowerment       3736\n",
      "2       genderequality       3205\n",
      "3        100daysofcode       1018\n",
      "4         womenwhocode        990\n",
      "5                women        931\n",
      "6                   ai        877\n",
      "7               coding        855\n",
      "8             violence        815\n",
      "9          datascience        745\n",
      "10         womeninstem        717\n",
      "11              python        690\n",
      "12      womeninscience        689\n",
      "13                tech        684\n",
      "14         programming        611\n",
      "15          javascript        562\n",
      "16  womenentrepreneurs        523\n",
      "17             bigdata        518\n",
      "18          technology        503\n",
      "19    blacktechtwitter        477\n"
     ]
    }
   ],
   "source": [
    "query2 = \"\"\"\n",
    "    MATCH p=()-[r:HAS_HASHTAG]->(n:Hashtag)\n",
    "    RETURN n.tag AS popular_hashtags, COUNT(*) AS frequency\n",
    "    ORDER BY frequency DESC\n",
    "    LIMIT 20\n",
    "\"\"\"\n",
    "pop_hashtags = graph.run(query2).to_data_frame()\n",
    "print('The 20 most popular hashtags in descending order are:')\n",
    "print(pop_hashtags)\n"
   ]
  },
  {
   "attachments": {},
   "cell_type": "markdown",
   "metadata": {},
   "source": [
    "Get the total number of URLs (unique)\n"
   ]
  },
  {
   "cell_type": "code",
   "execution_count": 4,
   "metadata": {},
   "outputs": [
    {
     "name": "stdout",
     "output_type": "stream",
     "text": [
      "The total number of urls is: 9136\n"
     ]
    }
   ],
   "source": [
    "query3 = \"MATCH (n:URL) RETURN COUNT(n)\"\n",
    "urls = graph.run(query3).evaluate()\n",
    "print(\"The total number of urls is:\", urls)"
   ]
  },
  {
   "attachments": {},
   "cell_type": "markdown",
   "metadata": {},
   "source": [
    "Get the 20 users with most followers in descending order\n"
   ]
  },
  {
   "cell_type": "code",
   "execution_count": 5,
   "metadata": {},
   "outputs": [
    {
     "name": "stdout",
     "output_type": "stream",
     "text": [
      "The 20 users with most followers in descending order are:\n",
      "           username  followers\n",
      "0          elonmusk  128282742\n",
      "1      narendramodi   86387842\n",
      "2               CNN   61110504\n",
      "3        MileyCyrus   46930879\n",
      "4             POTUS   29400524\n",
      "5           FoxNews   23704890\n",
      "6            Forbes   18710133\n",
      "7               ICC   18401325\n",
      "8              ndtv   17700505\n",
      "9                UN   16213190\n",
      "10      smritiirani   12724316\n",
      "11  harbhajan_singh   11848884\n",
      "12      PiyushGoyal   11685985\n",
      "13         TimesNow   10325121\n",
      "14          binance   10164724\n",
      "15     TheDailyShow    9499257\n",
      "16              ANI    7554914\n",
      "17           snooki    5943793\n",
      "18       Mike_Pence    5823821\n",
      "19        Cobratate    4996182\n"
     ]
    }
   ],
   "source": [
    "query4 = \"\"\"\n",
    "    MATCH (n:User)\n",
    "    WHERE n.followers IS NOT NULL\n",
    "    RETURN n.username AS username, n.followers as followers\n",
    "    ORDER BY followers DESC\n",
    "    LIMIT 20\n",
    "\"\"\"\n",
    "pop_users = graph.run(query4).to_data_frame()\n",
    "print('The 20 users with most followers in descending order are:')\n",
    "print(pop_users)"
   ]
  },
  {
   "attachments": {},
   "cell_type": "markdown",
   "metadata": {},
   "source": [
    "Get the hour with the most tweets and retweets\n"
   ]
  },
  {
   "cell_type": "code",
   "execution_count": 6,
   "metadata": {},
   "outputs": [
    {
     "name": "stdout",
     "output_type": "stream",
     "text": [
      "The  hour with the most tweets and retweets is the 15 th\n"
     ]
    }
   ],
   "source": [
    "query5 = \"\"\"\n",
    "    MATCH (u:User)-[:TWEETED]->(t:Tweet)\n",
    "    WITH u, t, substring(t.created_at, 11, 2) AS hour\n",
    "    RETURN u, t, toInteger(hour) AS tweet_hour\n",
    "    UNION\n",
    "    MATCH (u:User)-[:RETWEETED]->(t:Tweet)\n",
    "    WITH u, t, substring(t.created_at, 11, 2) AS hour\n",
    "    RETURN u, t, toInteger(hour) AS tweet_hour\n",
    "\"\"\"\n",
    "tweet_hour_df = graph.run(query5).to_data_frame()\n",
    "hour_count = tweet_hour_df.groupby(['tweet_hour']).count()['u'].values\n",
    "ind = np.argmax(hour_count)\n",
    "print('The  hour with the most tweets and retweets is the', ind, 'th')\n"
   ]
  },
  {
   "cell_type": "code",
   "execution_count": 9,
   "metadata": {},
   "outputs": [
    {
     "ename": "SyntaxError",
     "evalue": "invalid syntax (491170735.py, line 1)",
     "output_type": "error",
     "traceback": [
      "\u001b[0;36m  Cell \u001b[0;32mIn[9], line 1\u001b[0;36m\u001b[0m\n\u001b[0;31m    Get the 20 users, in descending order, that have been mentioned the most\u001b[0m\n\u001b[0m        ^\u001b[0m\n\u001b[0;31mSyntaxError\u001b[0m\u001b[0;31m:\u001b[0m invalid syntax\n"
     ]
    }
   ],
   "source": [
    "Get the 20 users, in descending order, that have been mentioned the most\n"
   ]
  },
  {
   "cell_type": "code",
   "execution_count": 11,
   "metadata": {},
   "outputs": [
    {
     "name": "stdout",
     "output_type": "stream",
     "text": [
      "The 20 users, in descending order, that have been mentioned the most are:\n",
      "           username  number_of_mentions\n",
      "0         Microsoft                6132\n",
      "1     anthonyjdella                6124\n",
      "2      Equal_Fights                 988\n",
      "3        FightHaven                 745\n",
      "4        see_fullen                 737\n",
      "5      GirlsWhoCode                 423\n",
      "6      ToofaniBaba1                 307\n",
      "7         NCMIndiaa                 246\n",
      "8    Khulood_Almani                 233\n",
      "9   NorthernComd_IA                 197\n",
      "10  WomensVoicesNow                 177\n",
      "11   HarishKhuranna                 157\n",
      "12        BJP4Delhi                 157\n",
      "13  Virend_Sachdeva                 157\n",
      "14  jindadilkashmir                 156\n",
      "15   sanjeevchadha8                 156\n",
      "16        TMGAwards                 132\n",
      "17         UN_Women                 125\n",
      "18    PointerSchool                 122\n",
      "19     emily_gunton                 121\n"
     ]
    }
   ],
   "source": [
    "query6 = \"\"\"\n",
    "    MATCH p=()-[r:MENTIONED]->(n:User)\n",
    "    RETURN n.username AS username, COUNT(*) AS number_of_mentions\n",
    "    ORDER BY number_of_mentions DESC\n",
    "    LIMIT 20\n",
    "\"\"\"\n",
    "most_mentioned_users = graph.run(query6).to_data_frame()\n",
    "print('The 20 users, in descending order, that have been mentioned the most are:')\n",
    "print(most_mentioned_users)\n"
   ]
  },
  {
   "cell_type": "code",
   "execution_count": 15,
   "metadata": {},
   "outputs": [
    {
     "ename": "SyntaxError",
     "evalue": "invalid syntax (3186667878.py, line 1)",
     "output_type": "error",
     "traceback": [
      "\u001b[0;36m  Cell \u001b[0;32mIn[15], line 1\u001b[0;36m\u001b[0m\n\u001b[0;31m    Get the top 20 tweets that have been retweeted the most and the persons that posted them\u001b[0m\n\u001b[0m        ^\u001b[0m\n\u001b[0;31mSyntaxError\u001b[0m\u001b[0;31m:\u001b[0m invalid syntax\n"
     ]
    }
   ],
   "source": [
    "Get the top 20 tweets that have been retweeted the most and the persons that posted them\n"
   ]
  },
  {
   "cell_type": "code",
   "execution_count": 16,
   "metadata": {},
   "outputs": [
    {
     "name": "stdout",
     "output_type": "stream",
     "text": [
      "The top 20 tweets that have been retweeted the most and the persons that posted them are:\n",
      "               tweet_id            author_id  retweets\n",
      "0   1617735335408017410  1162333473966891008     23351\n",
      "1   1617723820604854272  1499144181822136320     23351\n",
      "2   1614904562577715202   736244975944400896     21311\n",
      "3   1616739692153802753  1578001920169750533     21311\n",
      "4   1615338234250407936  1477971375100887042     21311\n",
      "5   1615254039788400642  1571833730783940609     21311\n",
      "6   1617351171341180928           3271065654     21311\n",
      "7   1616741044154175491  1120982776843399169     21311\n",
      "8   1616748922441199621  1488570069689204736     21311\n",
      "9   1616812458999681025           3093825314     21311\n",
      "10  1615752926869192711  1542755697087102976     21311\n",
      "11  1617535902116642818  1061286182313635842     21311\n",
      "12  1617895018127314944  1587502588957806599     21311\n",
      "13  1615988984060207110  1605845393081712640     21311\n",
      "14  1614904554247815170   736244975944400896     11731\n",
      "15  1617351148654178305           3271065654     11731\n",
      "16  1615254025657815041  1571833730783940609     11731\n",
      "17  1617351191033413634           3271065654     11574\n",
      "18  1617750374051622913   720112912212340736     11574\n",
      "19  1615254048357388288  1571833730783940609     11574\n"
     ]
    }
   ],
   "source": [
    "query7 = \"\"\"\n",
    "    MATCH (n:Tweet)\n",
    "    RETURN n.id as tweet_id, n.author as author_id, n.retweets as retweets\n",
    "    ORDER BY retweets DESC\n",
    "    LIMIT 20\n",
    "\"\"\"\n",
    "most_retweeted = graph.run(query7).to_data_frame()\n",
    "print('The top 20 tweets that have been retweeted the most and the persons that posted them are:')\n",
    "print(most_retweeted)"
   ]
  },
  {
   "attachments": {},
   "cell_type": "markdown",
   "metadata": {},
   "source": [
    "Run PageRank on the mention network\n"
   ]
  },
  {
   "cell_type": "code",
   "execution_count": 17,
   "metadata": {},
   "outputs": [
    {
     "ename": "ClientError",
     "evalue": "[Procedure.ProcedureCallFailed] Failed to invoke procedure `gds.graph.project.cypher`: Caused by: java.lang.IllegalArgumentException: A graph with name 'mentionGraph' already exists.",
     "output_type": "error",
     "traceback": [
      "\u001b[0;31m---------------------------------------------------------------------------\u001b[0m",
      "\u001b[0;31mClientError\u001b[0m                               Traceback (most recent call last)",
      "Cell \u001b[0;32mIn[17], line 13\u001b[0m\n\u001b[1;32m      1\u001b[0m query8_1 \u001b[39m=\u001b[39m \u001b[39m\"\"\"\u001b[39m\n\u001b[1;32m      2\u001b[0m \u001b[39mCALL gds.graph.project.cypher(\u001b[39m\n\u001b[1;32m      3\u001b[0m \u001b[39m    \u001b[39m\u001b[39m'\u001b[39m\u001b[39mmentionGraph\u001b[39m\u001b[39m'\u001b[39m\u001b[39m,\u001b[39m\n\u001b[1;32m      4\u001b[0m \u001b[39m    \u001b[39m\u001b[39m'\u001b[39m\u001b[39mMATCH (u:User) RETURN id(u) AS id\u001b[39m\u001b[39m'\u001b[39m\u001b[39m,\u001b[39m\n\u001b[1;32m      5\u001b[0m \u001b[39m    \u001b[39m\u001b[39m'\u001b[39m\u001b[39mMATCH (u:User)-[r:MENTIONED]-(u1:User) RETURN id(u) AS source, id(u1) AS target\u001b[39m\u001b[39m'\u001b[39m\u001b[39m)\u001b[39m\n\u001b[1;32m      6\u001b[0m \u001b[39m\"\"\"\u001b[39m\n\u001b[1;32m      7\u001b[0m query8_2 \u001b[39m=\u001b[39m \u001b[39m\"\"\"\u001b[39m\n\u001b[1;32m      8\u001b[0m \u001b[39m    CALL gds.pageRank.stream(\u001b[39m\u001b[39m'\u001b[39m\u001b[39mmentionGraph\u001b[39m\u001b[39m'\u001b[39m\u001b[39m) \u001b[39m\n\u001b[1;32m      9\u001b[0m \u001b[39m    YIELD nodeId, score\u001b[39m\n\u001b[1;32m     10\u001b[0m \u001b[39m    RETURN gds.util.asNode(nodeId).username AS username, score\u001b[39m\n\u001b[1;32m     11\u001b[0m \u001b[39m    ORDER BY score DESC LIMIT 10\u001b[39m\u001b[39m\"\"\"\u001b[39m\n\u001b[0;32m---> 13\u001b[0m mention_graph \u001b[39m=\u001b[39m graph\u001b[39m.\u001b[39;49mrun(query8_1)\n\u001b[1;32m     14\u001b[0m PR \u001b[39m=\u001b[39m graph\u001b[39m.\u001b[39mrun(query8_2)\u001b[39m.\u001b[39mto_data_frame()\n\u001b[1;32m     15\u001b[0m \u001b[39mprint\u001b[39m(\u001b[39m\"\u001b[39m\u001b[39mThe 10 highest PageRank scores for the \u001b[39m\u001b[39m'\u001b[39m\u001b[39mMentioned\u001b[39m\u001b[39m'\u001b[39m\u001b[39m network are:\u001b[39m\u001b[39m\"\u001b[39m, PR)\n",
      "File \u001b[0;32m~/opt/anaconda3/envs/neo_env/lib/python3.11/site-packages/py2neo/database.py:405\u001b[0m, in \u001b[0;36mGraph.run\u001b[0;34m(self, cypher, parameters, **kwparameters)\u001b[0m\n\u001b[1;32m    395\u001b[0m \u001b[39mdef\u001b[39;00m \u001b[39mrun\u001b[39m(\u001b[39mself\u001b[39m, cypher, parameters\u001b[39m=\u001b[39m\u001b[39mNone\u001b[39;00m, \u001b[39m*\u001b[39m\u001b[39m*\u001b[39mkwparameters):\n\u001b[1;32m    396\u001b[0m \u001b[39m    \u001b[39m\u001b[39m\"\"\" Run a single read/write query within an auto-commit\u001b[39;00m\n\u001b[1;32m    397\u001b[0m \u001b[39m    :class:`~py2neo.Transaction`.\u001b[39;00m\n\u001b[1;32m    398\u001b[0m \n\u001b[0;32m   (...)\u001b[0m\n\u001b[1;32m    403\u001b[0m \u001b[39m    :return:\u001b[39;00m\n\u001b[1;32m    404\u001b[0m \u001b[39m    \"\"\"\u001b[39;00m\n\u001b[0;32m--> 405\u001b[0m     \u001b[39mreturn\u001b[39;00m \u001b[39mself\u001b[39;49m\u001b[39m.\u001b[39;49mauto()\u001b[39m.\u001b[39;49mrun(cypher, parameters, \u001b[39m*\u001b[39;49m\u001b[39m*\u001b[39;49mkwparameters)\n",
      "File \u001b[0;32m~/opt/anaconda3/envs/neo_env/lib/python3.11/site-packages/py2neo/database.py:992\u001b[0m, in \u001b[0;36mTransaction.run\u001b[0;34m(self, cypher, parameters, **kwparameters)\u001b[0m\n\u001b[1;32m    988\u001b[0m     \u001b[39melse\u001b[39;00m:\n\u001b[1;32m    989\u001b[0m         result \u001b[39m=\u001b[39m \u001b[39mself\u001b[39m\u001b[39m.\u001b[39m_connector\u001b[39m.\u001b[39mauto_run(cypher, parameters,\n\u001b[1;32m    990\u001b[0m                                           graph_name\u001b[39m=\u001b[39m\u001b[39mself\u001b[39m\u001b[39m.\u001b[39mgraph\u001b[39m.\u001b[39mname,\n\u001b[1;32m    991\u001b[0m                                           readonly\u001b[39m=\u001b[39m\u001b[39mself\u001b[39m\u001b[39m.\u001b[39mreadonly)\n\u001b[0;32m--> 992\u001b[0m     \u001b[39mself\u001b[39;49m\u001b[39m.\u001b[39;49m_connector\u001b[39m.\u001b[39;49mpull(result, \u001b[39m-\u001b[39;49m\u001b[39m1\u001b[39;49m)\n\u001b[1;32m    993\u001b[0m     \u001b[39mreturn\u001b[39;00m Cursor(result, hydrant)\n\u001b[1;32m    994\u001b[0m \u001b[39mfinally\u001b[39;00m:\n",
      "File \u001b[0;32m~/opt/anaconda3/envs/neo_env/lib/python3.11/site-packages/py2neo/client/__init__.py:1434\u001b[0m, in \u001b[0;36mConnector.pull\u001b[0;34m(self, result, n)\u001b[0m\n\u001b[1;32m   1432\u001b[0m cx \u001b[39m=\u001b[39m \u001b[39mself\u001b[39m\u001b[39m.\u001b[39m_reacquire(result\u001b[39m.\u001b[39mtransaction)\n\u001b[1;32m   1433\u001b[0m \u001b[39mtry\u001b[39;00m:\n\u001b[0;32m-> 1434\u001b[0m     cx\u001b[39m.\u001b[39;49mpull(result, n\u001b[39m=\u001b[39;49mn)\n\u001b[1;32m   1435\u001b[0m \u001b[39mexcept\u001b[39;00m (ConnectionUnavailable, ConnectionBroken):\n\u001b[1;32m   1436\u001b[0m     \u001b[39mself\u001b[39m\u001b[39m.\u001b[39mprune(cx\u001b[39m.\u001b[39mprofile)\n",
      "File \u001b[0;32m~/opt/anaconda3/envs/neo_env/lib/python3.11/site-packages/py2neo/client/bolt.py:1001\u001b[0m, in \u001b[0;36mBolt4x0.pull\u001b[0;34m(self, result, n, capacity)\u001b[0m\n\u001b[1;32m    998\u001b[0m     raise_from(ConnectionBroken(\u001b[39m\"\u001b[39m\u001b[39mTransaction broken by disconnection \u001b[39m\u001b[39m\"\u001b[39m\n\u001b[1;32m    999\u001b[0m                                 \u001b[39m\"\u001b[39m\u001b[39mduring pull\u001b[39m\u001b[39m\"\u001b[39m), error)\n\u001b[1;32m   1000\u001b[0m \u001b[39melse\u001b[39;00m:\n\u001b[0;32m-> 1001\u001b[0m     \u001b[39mself\u001b[39;49m\u001b[39m.\u001b[39;49m_audit(\u001b[39mself\u001b[39;49m\u001b[39m.\u001b[39;49m_transaction)\n\u001b[1;32m   1002\u001b[0m     \u001b[39mreturn\u001b[39;00m response\n",
      "File \u001b[0;32m~/opt/anaconda3/envs/neo_env/lib/python3.11/site-packages/py2neo/client/bolt.py:810\u001b[0m, in \u001b[0;36mBolt1._audit\u001b[0;34m(self, task)\u001b[0m\n\u001b[1;32m    808\u001b[0m     \u001b[39mreturn\u001b[39;00m\n\u001b[1;32m    809\u001b[0m \u001b[39mtry\u001b[39;00m:\n\u001b[0;32m--> 810\u001b[0m     task\u001b[39m.\u001b[39;49maudit()\n\u001b[1;32m    811\u001b[0m \u001b[39mexcept\u001b[39;00m Neo4jError:\n\u001b[1;32m    812\u001b[0m     \u001b[39mself\u001b[39m\u001b[39m.\u001b[39mreset(force\u001b[39m=\u001b[39m\u001b[39mTrue\u001b[39;00m)\n",
      "File \u001b[0;32m~/opt/anaconda3/envs/neo_env/lib/python3.11/site-packages/py2neo/client/bolt.py:1140\u001b[0m, in \u001b[0;36mItemizedTask.audit\u001b[0;34m(self)\u001b[0m\n\u001b[1;32m   1138\u001b[0m \u001b[39mdef\u001b[39;00m \u001b[39maudit\u001b[39m(\u001b[39mself\u001b[39m):\n\u001b[1;32m   1139\u001b[0m     \u001b[39mfor\u001b[39;00m item \u001b[39min\u001b[39;00m \u001b[39mself\u001b[39m\u001b[39m.\u001b[39m_items:\n\u001b[0;32m-> 1140\u001b[0m         item\u001b[39m.\u001b[39;49maudit()\n",
      "File \u001b[0;32m~/opt/anaconda3/envs/neo_env/lib/python3.11/site-packages/py2neo/client/bolt.py:1140\u001b[0m, in \u001b[0;36mItemizedTask.audit\u001b[0;34m(self)\u001b[0m\n\u001b[1;32m   1138\u001b[0m \u001b[39mdef\u001b[39;00m \u001b[39maudit\u001b[39m(\u001b[39mself\u001b[39m):\n\u001b[1;32m   1139\u001b[0m     \u001b[39mfor\u001b[39;00m item \u001b[39min\u001b[39;00m \u001b[39mself\u001b[39m\u001b[39m.\u001b[39m_items:\n\u001b[0;32m-> 1140\u001b[0m         item\u001b[39m.\u001b[39;49maudit()\n",
      "File \u001b[0;32m~/opt/anaconda3/envs/neo_env/lib/python3.11/site-packages/py2neo/client/bolt.py:1303\u001b[0m, in \u001b[0;36mBoltResponse.audit\u001b[0;34m(self)\u001b[0m\n\u001b[1;32m   1301\u001b[0m \u001b[39mif\u001b[39;00m \u001b[39mself\u001b[39m\u001b[39m.\u001b[39m_failure:\n\u001b[1;32m   1302\u001b[0m     \u001b[39mself\u001b[39m\u001b[39m.\u001b[39mset_ignored()\n\u001b[0;32m-> 1303\u001b[0m     \u001b[39mraise\u001b[39;00m \u001b[39mself\u001b[39m\u001b[39m.\u001b[39m_failure\n",
      "\u001b[0;31mClientError\u001b[0m: [Procedure.ProcedureCallFailed] Failed to invoke procedure `gds.graph.project.cypher`: Caused by: java.lang.IllegalArgumentException: A graph with name 'mentionGraph' already exists."
     ]
    }
   ],
   "source": [
    "query8_1 = \"\"\"\n",
    "CALL gds.graph.project.cypher(\n",
    "    'mentionGraph',\n",
    "    'MATCH (u:User) RETURN id(u) AS id',\n",
    "    'MATCH (u:User)-[r:MENTIONED]-(u1:User) RETURN id(u) AS source, id(u1) AS target')\n",
    "\"\"\"\n",
    "query8_2 = \"\"\"\n",
    "    CALL gds.pageRank.stream('mentionGraph') \n",
    "    YIELD nodeId, score\n",
    "    RETURN gds.util.asNode(nodeId).username AS username, score\n",
    "    ORDER BY score DESC LIMIT 10\"\"\"\n",
    "\n",
    "mention_graph = graph.run(query8_1)\n",
    "PR = graph.run(query8_2).to_data_frame()\n",
    "print(\"The 10 highest PageRank scores for the 'Mentioned' network are:\", PR)\n",
    "print(\"The most important user according to the highest PageRank value is:\",\n",
    "      PR.iloc[0].values[0])\n"
   ]
  },
  {
   "attachments": {},
   "cell_type": "markdown",
   "metadata": {},
   "source": [
    "Get the 20 users with most similar hashtags to the 6th important user(as the others used no hashtags)\n"
   ]
  },
  {
   "cell_type": "code",
   "execution_count": null,
   "metadata": {},
   "outputs": [],
   "source": [
    "def jaccard_sim(list1, list2):\n",
    "    '''compute Jaccard similarity of two sets'''\n",
    "    intersec = len(set(list1).intersection(set(list2)))\n",
    "    union = len(set(list1).union(set(list2)))\n",
    "    if union > 0:\n",
    "        return intersec / union\n",
    "    else:\n",
    "        return 0\n",
    "\n",
    "def get_hashtags(name):\n",
    "    '''get the hashtags used by 6th important user\n",
    "    '''\n",
    "\n",
    "    query = \"\"\"\n",
    "        MATCH (u:User)-[r:USED_HASHTAG]->(h:Hashtag)\n",
    "        WHERE u.username = $name\n",
    "        RETURN DISTINCT h.tag \n",
    "    \"\"\"\n",
    "    tags = graph.run(query, name=name)\n",
    "    hashtags = [t[\"h.tag\"] for t in tags]\n",
    "\n",
    "    return hashtags\n",
    "\n",
    "def get_most_similar_user(name):\n",
    "    '''get the 20 users with most similar hashtags\n",
    "    to the 6th important user'''\n",
    "\n",
    "    user_tags = get_hashtags(name)\n",
    "    query9 = '''MATCH (u:User)-[r:USED_HASHTAG]->(h:Hashtag)\n",
    "        WHERE u.username <> $name\n",
    "        RETURN u.username, COLLECT(h.tag) AS hashtags'''\n",
    "    result = graph.run(query9, name=name)\n",
    "    tag_sim, users = list(), list()\n",
    "    for r in result:\n",
    "        other_user = r[\"u.username\"]\n",
    "        other_tags = r[\"hashtags\"]\n",
    "        if len(other_tags) > 0:\n",
    "            sim = jaccard_sim(user_tags, other_tags)\n",
    "            tag_sim.append(sim)\n",
    "            users.append(other_user)\n",
    "    tag_sim, users = zip(*sorted(zip(tag_sim, users)))\n",
    "\n",
    "    sim_user = users[-20:]\n",
    "    print('Τhe 20 users who used most similar hashtags to the 6th important user are:', sim_user)\n",
    "\n",
    "get_most_similar_user('ToofaniBaba1')"
   ]
  },
  {
   "attachments": {},
   "cell_type": "markdown",
   "metadata": {},
   "source": [
    "Get the community that each user belongs to in the MENTION graph according to Louvain algorithm\n"
   ]
  },
  {
   "cell_type": "code",
   "execution_count": null,
   "metadata": {},
   "outputs": [],
   "source": [
    "query10 = \"\"\"\n",
    "    CALL gds.louvain.stream('mentionGraph') \n",
    "    YIELD  nodeId, communityId\n",
    "    RETURN gds.util.asNode(nodeId).username AS username, communityId\"\"\"\n",
    "communities = graph.run(query10).to_data_frame()\n",
    "print(communities)"
   ]
  },
  {
   "attachments": {},
   "cell_type": "markdown",
   "metadata": {},
   "source": [
    "Get the top 10 most active users along with the number of posts they have made.\n"
   ]
  },
  {
   "cell_type": "code",
   "execution_count": null,
   "metadata": {},
   "outputs": [],
   "source": [
    "query11 = \"\"\"\n",
    "    MATCH (u:User)-[:TWEETED]->(t:Tweet)\n",
    "    WITH u, COUNT(t) AS number_of_posts\n",
    "    RETURN u.username AS username, number_of_posts\n",
    "    ORDER BY number_of_posts DESC\n",
    "    LIMIT 10\n",
    "\"\"\"\n",
    "active_users = graph.run(query11).to_data_frame()\n",
    "print('The top 10 most active users along with the number of posts they have made:')\n",
    "print(active_users)"
   ]
  },
  {
   "attachments": {},
   "cell_type": "markdown",
   "metadata": {},
   "source": [
    "Get the volumes of each type of tweets (where None is a tweet)\n"
   ]
  },
  {
   "cell_type": "code",
   "execution_count": null,
   "metadata": {},
   "outputs": [],
   "source": [
    "query12 = \"\"\"\n",
    "    MATCH (t:Tweet)\n",
    "    RETURN t.type AS type, COUNT(t) AS volume\n",
    "\"\"\"\n",
    "types = graph.run(query12).to_data_frame()\n",
    "print('The volumes of each type of tweets are:')\n",
    "print(types)\n"
   ]
  }
 ],
 "metadata": {
  "kernelspec": {
   "display_name": "neo_env",
   "language": "python",
   "name": "python3"
  },
  "language_info": {
   "codemirror_mode": {
    "name": "ipython",
    "version": 3
   },
   "file_extension": ".py",
   "mimetype": "text/x-python",
   "name": "python",
   "nbconvert_exporter": "python",
   "pygments_lexer": "ipython3",
   "version": "3.11.0"
  },
  "orig_nbformat": 4
 },
 "nbformat": 4,
 "nbformat_minor": 2
}
