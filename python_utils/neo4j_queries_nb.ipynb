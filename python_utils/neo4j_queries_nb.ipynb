{
 "cells": [
  {
   "cell_type": "code",
   "execution_count": null,
   "metadata": {},
   "outputs": [],
   "source": [
    "import py2neo\n",
    "import pandas as pd\n",
    "import numpy as np\n",
    "\n",
    "port = input(\"Enter Neo4j DB Bolt port: \")\n",
    "user = input(\"Enter Neo4j DB Username: \")\n",
    "pswd = input(\"Enter Neo4j DB Password: \")\n",
    "# graph = Graph(\"bolt://localhost:7687\", auth=(\"neo4j\", \"neo4j_auth\")\n",
    "\n",
    "graph = py2neo.Graph(port, auth=(user, pswd))"
   ]
  },
  {
   "attachments": {},
   "cell_type": "markdown",
   "metadata": {},
   "source": [
    "Get the total number of retweets"
   ]
  },
  {
   "cell_type": "code",
   "execution_count": null,
   "metadata": {},
   "outputs": [],
   "source": [
    "query1 = \"MATCH p=()-[r:RETWEETED]->() RETURN COUNT(*)\"\n",
    "retweets = graph.run(query1).evaluate()\n",
    "print(\"The total number of retweets is:\", retweets)"
   ]
  },
  {
   "attachments": {},
   "cell_type": "markdown",
   "metadata": {},
   "source": [
    "Get the 20 most popular hashtags (case insensitive) in descending order\n"
   ]
  },
  {
   "cell_type": "code",
   "execution_count": null,
   "metadata": {},
   "outputs": [],
   "source": [
    "query2 = \"\"\"\n",
    "    MATCH p=()-[r:HAS_HASHTAG]->(n:Hashtag)\n",
    "    RETURN n.tag AS popular_hashtags, COUNT(*) AS frequency\n",
    "    ORDER BY frequency DESC\n",
    "    LIMIT 20\n",
    "\"\"\"\n",
    "pop_hashtags = graph.run(query2).to_data_frame()\n",
    "print('The 20 most popular hashtags in descending order are:')\n",
    "print(pop_hashtags)\n"
   ]
  },
  {
   "attachments": {},
   "cell_type": "markdown",
   "metadata": {},
   "source": [
    "Get the total number of URLs (unique)\n"
   ]
  },
  {
   "cell_type": "code",
   "execution_count": null,
   "metadata": {},
   "outputs": [],
   "source": [
    "query3 = \"MATCH (n:URL) RETURN COUNT(n)\"\n",
    "urls = graph.run(query3).evaluate()\n",
    "print(\"The total number of urls is:\", urls)"
   ]
  },
  {
   "attachments": {},
   "cell_type": "markdown",
   "metadata": {},
   "source": [
    "Get the 20 users with most followers in descending order\n"
   ]
  },
  {
   "cell_type": "code",
   "execution_count": null,
   "metadata": {},
   "outputs": [],
   "source": [
    "query4 = \"\"\"\n",
    "    MATCH (n:User)\n",
    "    WHERE n.followers IS NOT NULL\n",
    "    RETURN n.username AS username, n.followers as followers\n",
    "    ORDER BY followers DESC\n",
    "    LIMIT 20\n",
    "\"\"\"\n",
    "pop_users = graph.run(query4).to_data_frame()\n",
    "print('The 20 users with most followers in descending order are:')\n",
    "print(pop_users)"
   ]
  },
  {
   "attachments": {},
   "cell_type": "markdown",
   "metadata": {},
   "source": [
    "Get the hour with the most tweets and retweets\n"
   ]
  },
  {
   "cell_type": "code",
   "execution_count": null,
   "metadata": {},
   "outputs": [],
   "source": [
    "query5 = \"\"\"\n",
    "    MATCH (u:User)-[:TWEETED]->(t:Tweet)\n",
    "    WITH u, t, substring(t.created_at, 11, 2) AS hour\n",
    "    RETURN u, t, toInteger(hour) AS tweet_hour\n",
    "    UNION\n",
    "    MATCH (u:User)-[:RETWEETED]->(t:Tweet)\n",
    "    WITH u, t, substring(t.created_at, 11, 2) AS hour\n",
    "    RETURN u, t, toInteger(hour) AS tweet_hour\n",
    "\"\"\"\n",
    "tweet_hour_df = graph.run(query5).to_data_frame()\n",
    "hour_count = tweet_hour_df.groupby(['tweet_hour']).count()['u'].values\n",
    "ind = np.argmax(hour_count)\n",
    "print('The  hour with the most tweets and retweets is the', ind, 'th')\n"
   ]
  },
  {
   "cell_type": "code",
   "execution_count": null,
   "metadata": {},
   "outputs": [],
   "source": [
    "Get the 20 users, in descending order, that have been mentioned the most\n"
   ]
  },
  {
   "cell_type": "code",
   "execution_count": null,
   "metadata": {},
   "outputs": [],
   "source": [
    "query6 = \"\"\"\n",
    "    MATCH p=()-[r:MENTIONED]->(n:User)\n",
    "    RETURN n.username AS username, COUNT(*) AS number_of_mentions\n",
    "    ORDER BY number_of_mentions DESC\n",
    "    LIMIT 20\n",
    "\"\"\"\n",
    "most_mentioned_users = graph.run(query6).to_data_frame()\n",
    "print('The 20 users, in descending order, that have been mentioned the most are:')\n",
    "print(most_mentioned_users)\n"
   ]
  },
  {
   "cell_type": "code",
   "execution_count": null,
   "metadata": {},
   "outputs": [],
   "source": [
    "Get the top 20 tweets that have been retweeted the most and the persons that posted them\n"
   ]
  },
  {
   "cell_type": "code",
   "execution_count": null,
   "metadata": {},
   "outputs": [],
   "source": [
    "query7 = \"\"\"\n",
    "    MATCH (n:Tweet)\n",
    "    RETURN n.id as tweet_id, n.author as author_id, n.retweets as retweets\n",
    "    ORDER BY retweets DESC\n",
    "    LIMIT 20\n",
    "\"\"\"\n",
    "most_retweeted = graph.run(query7).to_data_frame()\n",
    "print('The top 20 tweets that have been retweeted the most and the persons that posted them are:')\n",
    "print(most_retweeted)"
   ]
  },
  {
   "attachments": {},
   "cell_type": "markdown",
   "metadata": {},
   "source": [
    "Run PageRank on the mention network\n"
   ]
  },
  {
   "cell_type": "code",
   "execution_count": null,
   "metadata": {},
   "outputs": [],
   "source": [
    "query8_1 = \"\"\"\n",
    "CALL gds.graph.project.cypher(\n",
    "    'mentionGraph',\n",
    "    'MATCH (u:User) RETURN id(u) AS id',\n",
    "    'MATCH (u:User)-[r:MENTIONED]-(u1:User) RETURN id(u) AS source, id(u1) AS target')\n",
    "\"\"\"\n",
    "query8_2 = \"\"\"\n",
    "    CALL gds.pageRank.stream('mentionGraph') \n",
    "    YIELD nodeId, score\n",
    "    RETURN gds.util.asNode(nodeId).username AS username, score\n",
    "    ORDER BY score DESC LIMIT 10\"\"\"\n",
    "\n",
    "mention_graph = graph.run(query8_1)\n",
    "PR = graph.run(query8_2).to_data_frame()\n",
    "print(\"The 10 highest PageRank scores for the 'Mentioned' network are:\", PR)\n",
    "print(\"The most important user according to the highest PageRank value is:\",\n",
    "      PR.iloc[0].values[0])\n"
   ]
  },
  {
   "attachments": {},
   "cell_type": "markdown",
   "metadata": {},
   "source": [
    "Get the 20 users with most similar hashtags to the 6th important user(as the others used no hashtags)\n"
   ]
  },
  {
   "cell_type": "code",
   "execution_count": null,
   "metadata": {},
   "outputs": [],
   "source": [
    "def jaccard_sim(list1, list2):\n",
    "    '''compute Jaccard similarity of two sets'''\n",
    "    intersec = len(set(list1).intersection(set(list2)))\n",
    "    union = len(set(list1).union(set(list2)))\n",
    "    if union > 0:\n",
    "        return intersec / union\n",
    "    else:\n",
    "        return 0\n",
    "\n",
    "def get_hashtags(name):\n",
    "    '''get the hashtags used by 6th important user\n",
    "    '''\n",
    "\n",
    "    query = \"\"\"\n",
    "        MATCH (u:User)-[r:USED_HASHTAG]->(h:Hashtag)\n",
    "        WHERE u.username = $name\n",
    "        RETURN DISTINCT h.tag \n",
    "    \"\"\"\n",
    "    tags = graph.run(query, name=name)\n",
    "    hashtags = [t[\"h.tag\"] for t in tags]\n",
    "\n",
    "    return hashtags\n",
    "\n",
    "def get_most_similar_user(name):\n",
    "    '''get the 20 users with most similar hashtags\n",
    "    to the 6th important user'''\n",
    "\n",
    "    user_tags = get_hashtags(name)\n",
    "    query9 = '''MATCH (u:User)-[r:USED_HASHTAG]->(h:Hashtag)\n",
    "        WHERE u.username <> $name\n",
    "        RETURN u.username, COLLECT(h.tag) AS hashtags'''\n",
    "    result = graph.run(query9, name=name)\n",
    "    tag_sim, users = list(), list()\n",
    "    for r in result:\n",
    "        other_user = r[\"u.username\"]\n",
    "        other_tags = r[\"hashtags\"]\n",
    "        if len(other_tags) > 0:\n",
    "            sim = jaccard_sim(user_tags, other_tags)\n",
    "            tag_sim.append(sim)\n",
    "            users.append(other_user)\n",
    "    tag_sim, users = zip(*sorted(zip(tag_sim, users)))\n",
    "\n",
    "    sim_user = users[-20:]\n",
    "    print('Τhe 20 users who used most similar hashtags to the 6th important user are:', sim_user)\n",
    "\n",
    "get_most_similar_user('ToofaniBaba1')"
   ]
  },
  {
   "attachments": {},
   "cell_type": "markdown",
   "metadata": {},
   "source": [
    "Get the community that each user belongs to in the MENTION graph according to Louvain algorithm\n"
   ]
  },
  {
   "cell_type": "code",
   "execution_count": null,
   "metadata": {},
   "outputs": [],
   "source": [
    "query10 = \"\"\"\n",
    "    CALL gds.louvain.stream('mentionGraph') \n",
    "    YIELD  nodeId, communityId\n",
    "    RETURN gds.util.asNode(nodeId).username AS username, communityId\"\"\"\n",
    "communities = graph.run(query10).to_data_frame()\n",
    "print(communities)"
   ]
  },
  {
   "attachments": {},
   "cell_type": "markdown",
   "metadata": {},
   "source": [
    "Get the top 10 most active users along with the number of posts they have made.\n"
   ]
  },
  {
   "cell_type": "code",
   "execution_count": null,
   "metadata": {},
   "outputs": [],
   "source": [
    "query11 = \"\"\"\n",
    "    MATCH (u:User)-[:TWEETED]->(t:Tweet)\n",
    "    WITH u, COUNT(t) AS number_of_posts\n",
    "    RETURN u.username AS username, number_of_posts\n",
    "    ORDER BY number_of_posts DESC\n",
    "    LIMIT 10\n",
    "\"\"\"\n",
    "active_users = graph.run(query11).to_data_frame()\n",
    "print('The top 10 most active users along with the number of posts they have made:')\n",
    "print(active_users)"
   ]
  },
  {
   "attachments": {},
   "cell_type": "markdown",
   "metadata": {},
   "source": [
    "Get the volumes of each type of tweets (where None is a tweet)\n"
   ]
  },
  {
   "cell_type": "code",
   "execution_count": null,
   "metadata": {},
   "outputs": [],
   "source": [
    "query12 = \"\"\"\n",
    "    MATCH (t:Tweet)\n",
    "    RETURN t.type AS type, COUNT(t) AS volume\n",
    "\"\"\"\n",
    "types = graph.run(query12).to_data_frame()\n",
    "print('The volumes of each type of tweets are:')\n",
    "print(types)\n"
   ]
  }
 ],
 "metadata": {
  "language_info": {
   "name": "python"
  },
  "orig_nbformat": 4
 },
 "nbformat": 4,
 "nbformat_minor": 2
}
